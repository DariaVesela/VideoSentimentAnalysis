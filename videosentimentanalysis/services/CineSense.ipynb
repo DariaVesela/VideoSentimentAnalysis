{
 "cells": [
  {
   "cell_type": "code",
   "execution_count": 1,
   "id": "initial_id",
   "metadata": {
    "collapsed": true,
    "ExecuteTime": {
     "end_time": "2024-06-14T20:24:40.314730Z",
     "start_time": "2024-06-14T20:24:39.938052Z"
    }
   },
   "outputs": [],
   "source": [
    "from pathlib import Path\n",
    "from time import time\n",
    "import pandas as pd\n",
    "from videosentimentanalysis.usecases.download_video_use_case import VideoUseCase\n",
    "from videosentimentanalysis.adapters.logging.custom_logger import CustomLogger\n",
    "from videosentimentanalysis.adapters.logging.loguru_logger import LoguruLogger\n",
    "from videosentimentanalysis.adapters.extract_audio.moviepy_extraction import MoviePyAudioExtractor\n",
    "from videosentimentanalysis.usecases.video_utility_use_case import VideoUtilityUseCase\n",
    "from videosentimentanalysis.adapters.transcribe_audio.speechrecognition import SpeechRecognition"
   ]
  },
  {
   "cell_type": "markdown",
   "source": [
    "EXPLAIN HERE THE ARCHITECTURE OF THE PROJECT\n",
    "\n",
    "To run this project you need to have the following installed:\n",
    "- ffmpeg\n",
    "- python3.12\n",
    "- poetry"
   ],
   "metadata": {
    "collapsed": false
   },
   "id": "ff0c34a28abcf980"
  },
  {
   "cell_type": "markdown",
   "source": [
    "## Setup Adapters\n",
    "### Logging\n"
   ],
   "metadata": {
    "collapsed": false
   },
   "id": "8303710cc04978e7"
  },
  {
   "cell_type": "code",
   "outputs": [],
   "source": [
    "custom_logger = CustomLogger(Path(\"./download_log.txt\"))\n",
    "loguru_logger = LoguruLogger(Path(\"./loguru_logger.log\"))"
   ],
   "metadata": {
    "collapsed": false,
    "ExecuteTime": {
     "end_time": "2024-06-14T20:24:40.321544Z",
     "start_time": "2024-06-14T20:24:40.316067Z"
    }
   },
   "id": "c91558f9537c3b5d",
   "execution_count": 2
  },
  {
   "cell_type": "markdown",
   "source": [
    "### Video Utilities"
   ],
   "metadata": {
    "collapsed": false
   },
   "id": "9ad6290ebef44631"
  },
  {
   "cell_type": "code",
   "outputs": [],
   "source": [
    "moviepy_extractor = MoviePyAudioExtractor(Path(\"./tmp_audio\"))\n",
    "speechrecognition = SpeechRecognition()"
   ],
   "metadata": {
    "collapsed": false,
    "ExecuteTime": {
     "end_time": "2024-06-14T20:24:40.323928Z",
     "start_time": "2024-06-14T20:24:40.322152Z"
    }
   },
   "id": "bf07402fe85cda53",
   "execution_count": 3
  },
  {
   "cell_type": "markdown",
   "source": [
    "Load all the Youtube URLs to a Pydantic Model called RawURLVideo"
   ],
   "metadata": {
    "collapsed": false
   },
   "id": "ebbf29a912f67693"
  },
  {
   "cell_type": "code",
   "outputs": [],
   "source": [
    "video_use_case = VideoUseCase(video_output_directory=Path(\"tmp_videos\"), logger=custom_logger)"
   ],
   "metadata": {
    "collapsed": false,
    "ExecuteTime": {
     "end_time": "2024-06-14T20:24:40.326726Z",
     "start_time": "2024-06-14T20:24:40.325143Z"
    }
   },
   "id": "fb51a42197fc85d",
   "execution_count": 4
  },
  {
   "cell_type": "code",
   "outputs": [
    {
     "data": {
      "text/plain": "[RawVideoUrl(url='https://www.youtube.com/watch?v=G025oxyWv0E\\n'),\n RawVideoUrl(url='https://www.youtube.com/watch?v=9dgmp3KmwGg\\n'),\n RawVideoUrl(url='https://www.youtube.com/watch?v=Tx1XIm6q4r4\\n'),\n RawVideoUrl(url='https://www.youtube.com/watch?v=N2xk9nSEgxk\\n'),\n RawVideoUrl(url='https://www.youtube.com/watch?v=NkC9AiJf7gI\\n'),\n RawVideoUrl(url='https://www.youtube.com/watch?v=G7xFfezsJ1s')]"
     },
     "execution_count": 5,
     "metadata": {},
     "output_type": "execute_result"
    }
   ],
   "source": [
    "raw_url_videos=video_use_case.load_raw_url_video(Path('./video_urls.txt'))\n",
    "raw_url_videos"
   ],
   "metadata": {
    "collapsed": false,
    "ExecuteTime": {
     "end_time": "2024-06-14T20:24:40.330564Z",
     "start_time": "2024-06-14T20:24:40.327332Z"
    }
   },
   "id": "a644f01e9f56bc33",
   "execution_count": 5
  },
  {
   "cell_type": "code",
   "outputs": [
    {
     "name": "stdout",
     "output_type": "stream",
     "text": [
      "2024-06-14 20:24:40.469028+00:00 INFO: Bypassed age restriction for video from url='https://www.youtube.com/watch?v=G025oxyWv0E\\n' {} ()\n",
      "2024-06-14 20:24:42.072330+00:00 INFO: Downloaded video from url='https://www.youtube.com/watch?v=G025oxyWv0E\\n' saved to /Users/dariavesela/VideoSentimentAnalysis/videosentimentanalysis/services/tmp_videos/4dd0e83f-d713-4d72-88a1-72f9849f8f94If Educational Videos Were Filmed Like Music Videos.mp4 {} ()\n",
      "2024-06-14 20:24:42.200973+00:00 INFO: Bypassed age restriction for video from url='https://www.youtube.com/watch?v=9dgmp3KmwGg\\n' {} ()\n",
      "2024-06-14 20:24:43.291415+00:00 INFO: Downloaded video from url='https://www.youtube.com/watch?v=9dgmp3KmwGg\\n' saved to /Users/dariavesela/VideoSentimentAnalysis/videosentimentanalysis/services/tmp_videos/f771cfbe-5f88-47ab-869f-4dfde5927a87Casually Explained Guide to College and University.mp4 {} ()\n",
      "2024-06-14 20:24:43.407761+00:00 INFO: Bypassed age restriction for video from url='https://www.youtube.com/watch?v=Tx1XIm6q4r4\\n' {} ()\n",
      "2024-06-14 20:24:44.543816+00:00 INFO: Downloaded video from url='https://www.youtube.com/watch?v=Tx1XIm6q4r4\\n' saved to /Users/dariavesela/VideoSentimentAnalysis/videosentimentanalysis/services/tmp_videos/2a66f579-656b-4bed-b2d4-5245936e65d9Potter Puppet Pals The Mysterious Ticking Noise.mp4 {} ()\n",
      "2024-06-14 20:24:44.680625+00:00 INFO: Bypassed age restriction for video from url='https://www.youtube.com/watch?v=N2xk9nSEgxk\\n' {} ()\n",
      "2024-06-14 20:24:45.823789+00:00 INFO: Downloaded video from url='https://www.youtube.com/watch?v=N2xk9nSEgxk\\n' saved to /Users/dariavesela/VideoSentimentAnalysis/videosentimentanalysis/services/tmp_videos/364774af-2891-4e20-a24b-7a662624e474Fastest Rap EVER.mp4 {} ()\n",
      "2024-06-14 20:24:45.940404+00:00 INFO: Bypassed age restriction for video from url='https://www.youtube.com/watch?v=NkC9AiJf7gI\\n' {} ()\n",
      "2024-06-14 20:24:46.995372+00:00 INFO: Downloaded video from url='https://www.youtube.com/watch?v=NkC9AiJf7gI\\n' saved to /Users/dariavesela/VideoSentimentAnalysis/videosentimentanalysis/services/tmp_videos/76ce3c0c-b7a4-4c39-81f8-5068a9a78629THE PARTS OF A CELL SONG  Science Music Video.mp4 {} ()\n",
      "2024-06-14 20:24:47.102463+00:00 INFO: Bypassed age restriction for video from url='https://www.youtube.com/watch?v=G7xFfezsJ1s' {} ()\n",
      "2024-06-14 20:24:48.218434+00:00 INFO: Downloaded video from url='https://www.youtube.com/watch?v=G7xFfezsJ1s' saved to /Users/dariavesela/VideoSentimentAnalysis/videosentimentanalysis/services/tmp_videos/672dfa27-5035-4375-975d-3104268e6f01THE ROCK CYCLE SONG  Science Music Video.mp4 {} ()\n"
     ]
    }
   ],
   "source": [
    "sequential_time_taken = time()\n",
    "video_use_case.download_raw_videos_sequentially(raw_url_videos)\n",
    "sequential_time_taken = time() - sequential_time_taken"
   ],
   "metadata": {
    "collapsed": false,
    "ExecuteTime": {
     "end_time": "2024-06-14T20:24:48.220899Z",
     "start_time": "2024-06-14T20:24:40.331229Z"
    }
   },
   "id": "546d5e8579d1d74b",
   "execution_count": 6
  },
  {
   "cell_type": "code",
   "outputs": [
    {
     "name": "stdout",
     "output_type": "stream",
     "text": [
      "2024-06-14 20:24:48.346422+00:00 INFO: Bypassed age restriction for video from url='https://www.youtube.com/watch?v=NkC9AiJf7gI\\n' {} ()2024-06-14 20:24:48.345899+00:00 INFO: Bypassed age restriction for video from url='https://www.youtube.com/watch?v=Tx1XIm6q4r4\\n' {} ()\n",
      "\n",
      "2024-06-14 20:24:48.356101+00:00 INFO: Bypassed age restriction for video from url='https://www.youtube.com/watch?v=G025oxyWv0E\\n' {} ()\n",
      "2024-06-14 20:24:48.358376+00:00 INFO: Bypassed age restriction for video from url='https://www.youtube.com/watch?v=9dgmp3KmwGg\\n' {} ()\n",
      "2024-06-14 20:24:48.405314+00:00 INFO: Bypassed age restriction for video from url='https://www.youtube.com/watch?v=N2xk9nSEgxk\\n' {} ()\n",
      "2024-06-14 20:24:50.594430+00:00 INFO: Downloaded video from url='https://www.youtube.com/watch?v=N2xk9nSEgxk\\n' saved to /Users/dariavesela/VideoSentimentAnalysis/videosentimentanalysis/services/tmp_videos/6e5d0532-3c04-4149-ba96-27c5407508b1Fastest Rap EVER.mp4 {} ()\n",
      "2024-06-14 20:24:50.707455+00:00 INFO: Downloaded video from url='https://www.youtube.com/watch?v=Tx1XIm6q4r4\\n' saved to /Users/dariavesela/VideoSentimentAnalysis/videosentimentanalysis/services/tmp_videos/9b5d9065-7c35-4cd8-b837-998aff27ced6Potter Puppet Pals The Mysterious Ticking Noise.mp4 {} ()\n",
      "2024-06-14 20:24:50.723378+00:00 INFO: Bypassed age restriction for video from url='https://www.youtube.com/watch?v=G7xFfezsJ1s' {} ()\n",
      "2024-06-14 20:24:50.742316+00:00 INFO: Downloaded video from url='https://www.youtube.com/watch?v=9dgmp3KmwGg\\n' saved to /Users/dariavesela/VideoSentimentAnalysis/videosentimentanalysis/services/tmp_videos/bf4eae68-3960-460a-940c-44087fb0e0f5Casually Explained Guide to College and University.mp4 {} ()\n",
      "2024-06-14 20:24:50.778093+00:00 INFO: Downloaded video from url='https://www.youtube.com/watch?v=NkC9AiJf7gI\\n' saved to /Users/dariavesela/VideoSentimentAnalysis/videosentimentanalysis/services/tmp_videos/85d527ca-d75d-42b9-b905-e6c3a73a01e2THE PARTS OF A CELL SONG  Science Music Video.mp4 {} ()\n",
      "2024-06-14 20:24:50.886816+00:00 INFO: Downloaded video from url='https://www.youtube.com/watch?v=G025oxyWv0E\\n' saved to /Users/dariavesela/VideoSentimentAnalysis/videosentimentanalysis/services/tmp_videos/fb564c42-541e-4f47-8a06-18bb924684e7If Educational Videos Were Filmed Like Music Videos.mp4 {} ()\n",
      "2024-06-14 20:24:51.750072+00:00 INFO: Downloaded video from url='https://www.youtube.com/watch?v=G7xFfezsJ1s' saved to /Users/dariavesela/VideoSentimentAnalysis/videosentimentanalysis/services/tmp_videos/1a16c626-848f-4bfe-8a99-bbbfbd8a7f04THE ROCK CYCLE SONG  Science Music Video.mp4 {} ()\n"
     ]
    }
   ],
   "source": [
    "threading_time_taken = time()\n",
    "video_use_case.download_raw_videos_threading(raw_url_videos)\n",
    "threading_time_taken = time() - threading_time_taken"
   ],
   "metadata": {
    "collapsed": false,
    "ExecuteTime": {
     "end_time": "2024-06-14T20:24:51.753185Z",
     "start_time": "2024-06-14T20:24:48.221891Z"
    }
   },
   "id": "a17e12ba92a8dae7",
   "execution_count": 7
  },
  {
   "cell_type": "code",
   "outputs": [
    {
     "name": "stdout",
     "output_type": "stream",
     "text": [
      "2024-06-14 20:24:52.082368+00:00 INFO: Bypassed age restriction for video from url='https://www.youtube.com/watch?v=NkC9AiJf7gI\\n' {} ()\n",
      "2024-06-14 20:24:53.268143+00:00 INFO: Downloaded video from url='https://www.youtube.com/watch?v=NkC9AiJf7gI\\n' saved to /Users/dariavesela/VideoSentimentAnalysis/videosentimentanalysis/services/tmp_videos/2ac36c05-2403-40f4-b84d-8fe070e3835bTHE PARTS OF A CELL SONG  Science Music Video.mp4 {} ()\n",
      "2024-06-14 20:24:52.093739+00:00 INFO: Bypassed age restriction for video from url='https://www.youtube.com/watch?v=N2xk9nSEgxk\\n' {} ()\n",
      "2024-06-14 20:24:53.408081+00:00 INFO: Downloaded video from url='https://www.youtube.com/watch?v=N2xk9nSEgxk\\n' saved to /Users/dariavesela/VideoSentimentAnalysis/videosentimentanalysis/services/tmp_videos/e910cd8f-43db-4e37-beea-df40d138966dFastest Rap EVER.mp4 {} ()\n",
      "2024-06-14 20:24:52.067192+00:00 INFO: Bypassed age restriction for video from url='https://www.youtube.com/watch?v=9dgmp3KmwGg\\n' {} ()\n",
      "2024-06-14 20:24:53.419658+00:00 INFO: Downloaded video from url='https://www.youtube.com/watch?v=9dgmp3KmwGg\\n' saved to /Users/dariavesela/VideoSentimentAnalysis/videosentimentanalysis/services/tmp_videos/b6ac031d-1bed-4086-8ab7-f409b496629eCasually Explained Guide to College and University.mp4 {} ()\n",
      "2024-06-14 20:24:52.075737+00:00 INFO: Bypassed age restriction for video from url='https://www.youtube.com/watch?v=Tx1XIm6q4r4\\n' {} ()\n",
      "2024-06-14 20:24:53.867976+00:00 INFO: Downloaded video from url='https://www.youtube.com/watch?v=Tx1XIm6q4r4\\n' saved to /Users/dariavesela/VideoSentimentAnalysis/videosentimentanalysis/services/tmp_videos/8a910600-16bb-4db2-90f1-ad65e078dcd9Potter Puppet Pals The Mysterious Ticking Noise.mp4 {} ()\n",
      "2024-06-14 20:24:52.093947+00:00 INFO: Bypassed age restriction for video from url='https://www.youtube.com/watch?v=G025oxyWv0E\\n' {} ()\n",
      "2024-06-14 20:24:53.877329+00:00 INFO: Downloaded video from url='https://www.youtube.com/watch?v=G025oxyWv0E\\n' saved to /Users/dariavesela/VideoSentimentAnalysis/videosentimentanalysis/services/tmp_videos/e4c1b430-e2e4-4139-83c2-491cfd55dbbdIf Educational Videos Were Filmed Like Music Videos.mp4 {} ()\n",
      "2024-06-14 20:24:53.485421+00:00 INFO: Bypassed age restriction for video from url='https://www.youtube.com/watch?v=G7xFfezsJ1s' {} ()\n",
      "2024-06-14 20:24:54.676456+00:00 INFO: Downloaded video from url='https://www.youtube.com/watch?v=G7xFfezsJ1s' saved to /Users/dariavesela/VideoSentimentAnalysis/videosentimentanalysis/services/tmp_videos/bc390d8a-c0d4-48dc-aef5-ef3fde358268THE ROCK CYCLE SONG  Science Music Video.mp4 {} ()\n"
     ]
    }
   ],
   "source": [
    "process_time_taken = time()\n",
    "videos=video_use_case.download_raw_videos_multiprocessing(raw_url_videos)\n",
    "process_time_taken = time() - process_time_taken"
   ],
   "metadata": {
    "collapsed": false,
    "ExecuteTime": {
     "end_time": "2024-06-14T20:24:54.701934Z",
     "start_time": "2024-06-14T20:24:51.754729Z"
    }
   },
   "id": "286f7c4ea19470d",
   "execution_count": 8
  },
  {
   "cell_type": "markdown",
   "source": [
    "## Results of each method of downloading videos and time taken"
   ],
   "metadata": {
    "collapsed": false
   },
   "id": "1543d56c85aa743a"
  },
  {
   "cell_type": "code",
   "outputs": [
    {
     "data": {
      "text/plain": "            Method  Time Taken\n0       Sequential    7.887942\n1        Threading    3.529059\n2  Multiprocessing    2.944262",
      "text/html": "<div>\n<style scoped>\n    .dataframe tbody tr th:only-of-type {\n        vertical-align: middle;\n    }\n\n    .dataframe tbody tr th {\n        vertical-align: top;\n    }\n\n    .dataframe thead th {\n        text-align: right;\n    }\n</style>\n<table border=\"1\" class=\"dataframe\">\n  <thead>\n    <tr style=\"text-align: right;\">\n      <th></th>\n      <th>Method</th>\n      <th>Time Taken</th>\n    </tr>\n  </thead>\n  <tbody>\n    <tr>\n      <th>0</th>\n      <td>Sequential</td>\n      <td>7.887942</td>\n    </tr>\n    <tr>\n      <th>1</th>\n      <td>Threading</td>\n      <td>3.529059</td>\n    </tr>\n    <tr>\n      <th>2</th>\n      <td>Multiprocessing</td>\n      <td>2.944262</td>\n    </tr>\n  </tbody>\n</table>\n</div>"
     },
     "execution_count": 9,
     "metadata": {},
     "output_type": "execute_result"
    }
   ],
   "source": [
    "pd.DataFrame({\n",
    "    \"Method\": [\"Sequential\", \"Threading\", \"Multiprocessing\"],\n",
    "    \"Time Taken\": [sequential_time_taken, threading_time_taken, process_time_taken]\n",
    "})"
   ],
   "metadata": {
    "collapsed": false,
    "ExecuteTime": {
     "end_time": "2024-06-14T20:24:54.710345Z",
     "start_time": "2024-06-14T20:24:54.703639Z"
    }
   },
   "id": "c88f7f5ac315eb96",
   "execution_count": 9
  },
  {
   "cell_type": "markdown",
   "source": [
    "Blah Blah Blah Monkey stuff"
   ],
   "metadata": {
    "collapsed": false
   },
   "id": "cf12ddfd57466ce7"
  },
  {
   "cell_type": "code",
   "outputs": [
    {
     "name": "stderr",
     "output_type": "stream",
     "text": [
      "\u001B[32m2024-06-14 21:24:54.714\u001B[0m | \u001B[1mINFO    \u001B[0m | \u001B[36mvideosentimentanalysis.adapters.logging.loguru_logger\u001B[0m:\u001B[36minfo\u001B[0m:\u001B[36m17\u001B[0m - \u001B[1mExtracting audio from video If Educational Videos Were Filmed Like Music Videos\u001B[0m\n"
     ]
    },
    {
     "name": "stdout",
     "output_type": "stream",
     "text": [
      "MoviePy - Writing audio in tmp_audio/If Educational Videos Were Filmed Like Music Videos.wav\n"
     ]
    },
    {
     "name": "stderr",
     "output_type": "stream",
     "text": [
      "\u001B[32m2024-06-14 21:24:55.321\u001B[0m | \u001B[1mINFO    \u001B[0m | \u001B[36mvideosentimentanalysis.adapters.logging.loguru_logger\u001B[0m:\u001B[36minfo\u001B[0m:\u001B[36m17\u001B[0m - \u001B[1mReturning cached audio for video If Educational Videos Were Filmed Like Music Videos\u001B[0m\n",
      "\u001B[32m2024-06-14 21:24:55.322\u001B[0m | \u001B[1mINFO    \u001B[0m | \u001B[36mvideosentimentanalysis.adapters.logging.loguru_logger\u001B[0m:\u001B[36mlog\u001B[0m:\u001B[36m14\u001B[0m - \u001B[1mTranscribing audio from video If Educational Videos Were Filmed Like Music Videos\u001B[0m\n"
     ]
    },
    {
     "name": "stdout",
     "output_type": "stream",
     "text": [
      "MoviePy - Done.\n",
      "local_storage_path=PosixPath('tmp_audio/If Educational Videos Were Filmed Like Music Videos.wav')\n"
     ]
    },
    {
     "name": "stderr",
     "output_type": "stream",
     "text": [
      "100%|███████████████████████████████████████| 139M/139M [00:03<00:00, 46.1MiB/s]\n",
      "\u001B[32m2024-06-14 21:25:10.948\u001B[0m | \u001B[1mINFO    \u001B[0m | \u001B[36mvideosentimentanalysis.adapters.logging.loguru_logger\u001B[0m:\u001B[36minfo\u001B[0m:\u001B[36m17\u001B[0m - \u001B[1mExtracting audio from video Casually Explained: Guide to College and University\u001B[0m\n"
     ]
    },
    {
     "name": "stdout",
     "output_type": "stream",
     "text": [
      " The opening shot is a little confusing and a little unreal. That sense of unreality is because nearly every shot in this video is being played back at the wrong speed. We filmed this section at 30 frames a second, but it's being played back at 24, 80% of normal speed. So it just seems a little bit off. Plus we're using rapid cuts with no continuity between them, different clothes, different locations, different everything. We've also got some cutaways in extreme slow motion, because it looks spectacular, and because it lets me do a moody stare into the distance without having to hold it for so long that it becomes awkward. It also lets us fit in some product placement. Some of the shots aren't slow motion though. This is being played back faster than real time, so that the dancers seem more synchronised and precise than they really are. I mean, don't get me wrong, they're good, but would the speed change their movements look superhuman? Also, there are dancers, because having attractive people move in attractive ways makes the video more appealing. We couldn't afford a wind machine for this shot, so we bought a leaf blower from a hardware store. We kept the receipt, so we can return it after we're done. The trouble with filming everything in the wrong frame rate is that my voice won't sound right, so the vocal track for this was pre-recorded in a studio, and I'm lip syncing it at the wrong speed. If my lips don't quite match up at some point, we'll just cut to another take, or to a completely random, slow-mo shot of an object being destroyed, and no one will care. Actually, this isn't the studio where we recorded the vocal track. I recorded this weeks ago, so we could plan everything, but we didn't film that session, so we had to go to this separate recording studio to fake that footage. This microphone isn't even plugged in. We're now about two dozen of the way through, so here's a middle eight from me, the featured artist, in an attempt to cross promote us. Our schedule didn't match up, so this was all filmed separately. Despite that, we're still trying to convince everyone that Tom and I met up, a great friend, and they're definitely in the same room. This is the part where we break up the video with a bit of diagetic audio, just so people can't rip the whole thing off YouTube. This isn't actually a party. It may look like we're having a spectacular time, as that's the image we want to project, but in reality, we are on our 15th take. Everyone would quite like to go home. This final section is important, though, because it resolves the question at the start, why am I falling into a swimming pool? Because ending the same way we started makes the audience think that there's a sensible, circular narrative that ties everything together, even if there isn't. You can't buy this on iTunes or stream it on Spotify. It's not a song.\n",
      "MoviePy - Writing audio in tmp_audio/Casually Explained: Guide to College and University.wav\n"
     ]
    },
    {
     "name": "stderr",
     "output_type": "stream",
     "text": [
      "\u001B[32m2024-06-14 21:25:11.749\u001B[0m | \u001B[1mINFO    \u001B[0m | \u001B[36mvideosentimentanalysis.adapters.logging.loguru_logger\u001B[0m:\u001B[36minfo\u001B[0m:\u001B[36m17\u001B[0m - \u001B[1mReturning cached audio for video Casually Explained: Guide to College and University\u001B[0m\n",
      "\u001B[32m2024-06-14 21:25:11.749\u001B[0m | \u001B[1mINFO    \u001B[0m | \u001B[36mvideosentimentanalysis.adapters.logging.loguru_logger\u001B[0m:\u001B[36mlog\u001B[0m:\u001B[36m14\u001B[0m - \u001B[1mTranscribing audio from video Casually Explained: Guide to College and University\u001B[0m\n"
     ]
    },
    {
     "name": "stdout",
     "output_type": "stream",
     "text": [
      "MoviePy - Done.\n",
      "local_storage_path=PosixPath('tmp_audio/Casually Explained: Guide to College and University.wav')\n"
     ]
    },
    {
     "name": "stderr",
     "output_type": "stream",
     "text": [
      "\u001B[32m2024-06-14 21:25:27.615\u001B[0m | \u001B[1mINFO    \u001B[0m | \u001B[36mvideosentimentanalysis.adapters.logging.loguru_logger\u001B[0m:\u001B[36minfo\u001B[0m:\u001B[36m17\u001B[0m - \u001B[1mExtracting audio from video Potter Puppet Pals: The Mysterious Ticking Noise\u001B[0m\n"
     ]
    },
    {
     "name": "stdout",
     "output_type": "stream",
     "text": [
      " So I know that most people going to college or university are pretty concerned about what it's going to be like, so I want to make a guide to help you out. One of the first things you need to know is that they're pretty expensive, and you can't have the same attitudes you didn't high school because if you fail something, you just have to take it again at your own expense. So before you go, you need to ask yourself the question, are you really there to drink and meet girls, or are you there to get a degree, it will help direct your career for the rest of your life. And once you figure that out, then you can ask yourself, am I dedicated enough to commit my whole data this for the next four plus years, or am I going to set some time aside to get my degree? Personally, I really decided to take everything one step at a time, and the first thing you have to do is register for courses. And you might have heard that the schoolwork is going to be a lot harder than high school, and I think most of us have had thoughts like, what are I'm just not smart enough for this? And the truth is, if you could navigate their website, you're smart enough. Now, you might be wondering what's the best program to take, and truth be told, this is not really a best program. The most important thing is choosing something that will help you find a sustainable job that you'll enjoy. Now, you might be thinking, wait a minute, how do I try to get the job I'll enjoy if I don't know what I'll enjoy because I've never had the job. And that's a good question, and I'll avoid by suggesting you use the following rule of thumb. So when you're picking a program, imagine a slider that goes from fun to how much money you'll make. And that's the spectrum you're dealing with. So one thing that most people are really excited about is making new friends, and don't worry, you'll get over that pretty quickly. But if you're talking to someone, one thing I think is really important is to avoid certain trigger phrases when you're talking to people from different departments. As an example, don't talk about the job market with fine art students. Don't talk to a pre-med or med students about student loans or how long until they graduate. And never, ever tell an engineering student you had a lot of homework last night, even if you're another engineering student. If you're wondering what type of engineering has the most homework, it's the one they're taking. On a similar note, as for how much work you should expect to do, when I started classes they told everyone, you should be studying for two to three hours at home for each hour of lectures you attend. And I remember thinking, wow, no homework. Unfortunately, that eventually backfired when we had an in-class midterm, and I couldn't find the room. So, along with that loophole that doesn't work, there's some common myths I wanted to spell right away, so you don't have the wrong idea about college or university. You'll still be one of the smart kids, myth. People are a lot more mature. Myth. You'll have a lot more sex. True. I'll have a lot more sex. Myth. Now, completely unrelated, but something that can really have an effect on your experience is the male to female ratio in a program. As an example, looking at the stats from our local schools, computer science and software engineering is 90% male, while the health and nursing programs are 90% female. You might be thinking, oh no, I'm a guy taking computer science, but I still want to meet girls. What does that mean? Means you fucked up. I took one job, a program course, and now I get an erection every time I see a gender-neutral name on an attendant sheet. Now, of course, when people think of college, they think of college parties. And so, I'd always wondered what it'd be like to be invited to one. On a bit more serious note, one thing I think needs to be said is that a lot of students are a little bummed out that they're really good at something in high school, but now they're kind of middle of the pack. The truth is, you don't need to be the best at your discipline to do great things. As an example, I never showed a lot of potential in high school, but now I make YouTube videos in my room. What I mean to say is I think it's important to look for other avenues to really help you stand out to employers and help your career in general. Like once your skill is at a certain level, you don't become a famous artist by being better than everyone at art or music. You get there by being better at marketing. You don't become a chief engineer by being better than everyone at math. You get there by being better at communication and dealing with people. And ultimately, you try to have at least a little bit of diversity, because even if you're lucky enough to have the ability to become the best in the world at one thing, in 30 years it'll be even more difficult to cope when we all get replaced by robots. You\n",
      "MoviePy - Writing audio in tmp_audio/Potter Puppet Pals: The Mysterious Ticking Noise.wav\n"
     ]
    },
    {
     "name": "stderr",
     "output_type": "stream",
     "text": [
      "\u001B[32m2024-06-14 21:25:28.238\u001B[0m | \u001B[1mINFO    \u001B[0m | \u001B[36mvideosentimentanalysis.adapters.logging.loguru_logger\u001B[0m:\u001B[36minfo\u001B[0m:\u001B[36m17\u001B[0m - \u001B[1mReturning cached audio for video Potter Puppet Pals: The Mysterious Ticking Noise\u001B[0m\n",
      "\u001B[32m2024-06-14 21:25:28.238\u001B[0m | \u001B[1mINFO    \u001B[0m | \u001B[36mvideosentimentanalysis.adapters.logging.loguru_logger\u001B[0m:\u001B[36mlog\u001B[0m:\u001B[36m14\u001B[0m - \u001B[1mTranscribing audio from video Potter Puppet Pals: The Mysterious Ticking Noise\u001B[0m\n"
     ]
    },
    {
     "name": "stdout",
     "output_type": "stream",
     "text": [
      "MoviePy - Done.\n",
      "local_storage_path=PosixPath('tmp_audio/Potter Puppet Pals: The Mysterious Ticking Noise.wav')\n"
     ]
    },
    {
     "name": "stderr",
     "output_type": "stream",
     "text": [
      "\u001B[32m2024-06-14 21:25:31.936\u001B[0m | \u001B[1mINFO    \u001B[0m | \u001B[36mvideosentimentanalysis.adapters.logging.loguru_logger\u001B[0m:\u001B[36minfo\u001B[0m:\u001B[36m17\u001B[0m - \u001B[1mExtracting audio from video Fastest Rap EVER\u001B[0m\n"
     ]
    },
    {
     "name": "stdout",
     "output_type": "stream",
     "text": [
      " Hmm. What is that mysterious ticking noise? Not over here, not over there. Kind of catchy. I found the source of the ticking. It's a pipe bomb. Yeah! Oh! Voldemort, Voldemort, Voldemort, Voldemort!\n",
      "MoviePy - Writing audio in tmp_audio/Fastest Rap EVER.wav\n"
     ]
    },
    {
     "name": "stderr",
     "output_type": "stream",
     "text": [
      "\u001B[32m2024-06-14 21:25:32.419\u001B[0m | \u001B[1mINFO    \u001B[0m | \u001B[36mvideosentimentanalysis.adapters.logging.loguru_logger\u001B[0m:\u001B[36minfo\u001B[0m:\u001B[36m17\u001B[0m - \u001B[1mReturning cached audio for video Fastest Rap EVER\u001B[0m\n",
      "\u001B[32m2024-06-14 21:25:32.420\u001B[0m | \u001B[1mINFO    \u001B[0m | \u001B[36mvideosentimentanalysis.adapters.logging.loguru_logger\u001B[0m:\u001B[36mlog\u001B[0m:\u001B[36m14\u001B[0m - \u001B[1mTranscribing audio from video Fastest Rap EVER\u001B[0m\n"
     ]
    },
    {
     "name": "stdout",
     "output_type": "stream",
     "text": [
      "MoviePy - Done.\n",
      "local_storage_path=PosixPath('tmp_audio/Fastest Rap EVER.wav')\n"
     ]
    },
    {
     "name": "stderr",
     "output_type": "stream",
     "text": [
      "\u001B[32m2024-06-14 21:25:38.781\u001B[0m | \u001B[1mINFO    \u001B[0m | \u001B[36mvideosentimentanalysis.adapters.logging.loguru_logger\u001B[0m:\u001B[36minfo\u001B[0m:\u001B[36m17\u001B[0m - \u001B[1mExtracting audio from video THE PARTS OF A CELL SONG | Science Music Video\u001B[0m\n"
     ]
    },
    {
     "name": "stdout",
     "output_type": "stream",
     "text": [
      " I'm gonna show you the fastest flow Take all your money and all your go Class every lines of look I'll be lower I'll wake you up when I go, go, go No one can touch me and no fun show The sound on the screen is a video The flag was the twilight beyond that flow Time for the ride baby go me go My name is Rumi I want to be a welcome tonight and mile I'm here to kidnap and mend them from the candy aisle Spit my foes so sick then it'll meet my mile I'll devour him and his gang now, now, now, I'm style Let people envy my rhymes as they should But I also excel at making women feel good They call me black beard, black in the hood Guess I'll look like a pirate when my turnlicks got word I'm gonna be bigger than anything anyone anywhere That is why I need to become a billionaire by all the heists We men know I want to be a shag on and become the heavy It's beyond compare morgans for a lot such a mix of chicken and gear And even start to thicken Spit it up because time is ticking I'm already late for some fighters to clickin I'm just being possible get on your knees and idolize my lips I'm moving faster than you're raking even and I like some people Guess we're gonna be in the coast of the wood butterflies Head around or my two-story eye apologies I don't wanna wake up when I'm 55 and realize that even If I did succeed I did six-year-old people like so I just wanna tell you all that What you're seeing with your eyes is altered Spit it up because that's what's on the internet, guys Let's go! He's merged! That's not my channel!\n",
      "MoviePy - Writing audio in tmp_audio/THE PARTS OF A CELL SONG | Science Music Video.wav\n"
     ]
    },
    {
     "name": "stderr",
     "output_type": "stream",
     "text": [
      "\u001B[32m2024-06-14 21:25:39.453\u001B[0m | \u001B[1mINFO    \u001B[0m | \u001B[36mvideosentimentanalysis.adapters.logging.loguru_logger\u001B[0m:\u001B[36minfo\u001B[0m:\u001B[36m17\u001B[0m - \u001B[1mReturning cached audio for video THE PARTS OF A CELL SONG | Science Music Video\u001B[0m\n",
      "\u001B[32m2024-06-14 21:25:39.453\u001B[0m | \u001B[1mINFO    \u001B[0m | \u001B[36mvideosentimentanalysis.adapters.logging.loguru_logger\u001B[0m:\u001B[36mlog\u001B[0m:\u001B[36m14\u001B[0m - \u001B[1mTranscribing audio from video THE PARTS OF A CELL SONG | Science Music Video\u001B[0m\n"
     ]
    },
    {
     "name": "stdout",
     "output_type": "stream",
     "text": [
      "MoviePy - Done.\n",
      "local_storage_path=PosixPath('tmp_audio/THE PARTS OF A CELL SONG | Science Music Video.wav')\n"
     ]
    },
    {
     "name": "stderr",
     "output_type": "stream",
     "text": [
      "\u001B[32m2024-06-14 21:25:47.775\u001B[0m | \u001B[1mINFO    \u001B[0m | \u001B[36mvideosentimentanalysis.adapters.logging.loguru_logger\u001B[0m:\u001B[36minfo\u001B[0m:\u001B[36m17\u001B[0m - \u001B[1mExtracting audio from video THE ROCK CYCLE SONG | Science Music Video\u001B[0m\n"
     ]
    },
    {
     "name": "stdout",
     "output_type": "stream",
     "text": [
      " Here's what he so contains Out of layers of salmon brain It controls what goes in and down Sells that synergy from source of mitochondria Also known as the powerhouse In the ribosomes after cell with proteins in the cis and double as micrarchiculomocary substances Bricking down multi-reels, lies also The nucleus controls the cell kind of like a brain contains a DNA when cells divide to replicate And suddenly a man reign full of pores And nucleolus makes bubbles and minerals from proteins Acreting hormones by the Goldie bodies Each unit of a cell is in organelle The membrane keeps substances out inside Some film inside, or plasma, some bizzostomes Help break things down energy from mitochondria Protein factories, ribosomes, endoplasmic particulum Chance receptances like proteins, degrees controls, please Salmon brain, mitochondria, lysosomes, ribosomes, cytoplasm, nucleus, ER-ingled-day body And then nucleolus, salmon brain, mitochondria, lysosomes, ribosomes, cytoplasm, nucleus, ER-ingled-day body And then nucleolus, if you look at a plant cell They have a few different organelles Chloroplasts, back-e-wals, and a cell wall Chloroplasts take the sun in, convert to food through photosynthesis Large back-e-wals to food water and waste Cell wall is the outer, vision cell, yellow cells, the protector You prepastructure to the sound Salmon brain, mitochondria, lysosomes, ribosomes, cytoplasm, nucleus, ER-ingled-day body And then nucleolus, salmon brain, mitochondria, lysosomes, ribosomes, cytoplasm, nucleus, ER-ingled-day body And then nucleolus\n",
      "MoviePy - Writing audio in tmp_audio/THE ROCK CYCLE SONG | Science Music Video.wav\n"
     ]
    },
    {
     "name": "stderr",
     "output_type": "stream",
     "text": [
      "\u001B[32m2024-06-14 21:25:48.454\u001B[0m | \u001B[1mINFO    \u001B[0m | \u001B[36mvideosentimentanalysis.adapters.logging.loguru_logger\u001B[0m:\u001B[36minfo\u001B[0m:\u001B[36m17\u001B[0m - \u001B[1mReturning cached audio for video THE ROCK CYCLE SONG | Science Music Video\u001B[0m\n",
      "\u001B[32m2024-06-14 21:25:48.455\u001B[0m | \u001B[1mINFO    \u001B[0m | \u001B[36mvideosentimentanalysis.adapters.logging.loguru_logger\u001B[0m:\u001B[36mlog\u001B[0m:\u001B[36m14\u001B[0m - \u001B[1mTranscribing audio from video THE ROCK CYCLE SONG | Science Music Video\u001B[0m\n"
     ]
    },
    {
     "name": "stdout",
     "output_type": "stream",
     "text": [
      "MoviePy - Done.\n",
      "local_storage_path=PosixPath('tmp_audio/THE ROCK CYCLE SONG | Science Music Video.wav')\n",
      " Okay now, let's start with minerals, solid naturally Yucca, reeks, substances made from elements, singles, or combos of many inorganic means anal, comp from plants, or animals, always a fixed-can-bickle structure, examples of coastal gold. All right, now do it from minerals, let's talk about what a rock is, composed of many different compounds, structures not consistent. There are major types of rocks, in total there are three igneas, metamorphic and sedimentary. First off, it's igneas, one of all canoeuvres, blues, magma, and then it cools down hardens within the earth's class, going to the metamorphic, formed by massive heat or pressure, sometimes they've found by the fault lines where place push against each other. Sedimentary rocks, rocks sediment combining, like a river picking up to the positive pieces, comes to ragged eventually. Inge is comes from a volcano, metamorphic formed by pressure, all heaps, sedimentary small pieces from a river, over and over and over again. Inge is comes from a volcano, metamorphic formed by pressure, all heaps, sedimentary small pieces from a river, over and over again. Okay, so, over a million zippies, rocks, flaming, and a few different ways and transition to the three rockers, continue with cycle of chains, most rocks aren't igneas, volcano, magma hardened, wind and water, big rock into small pieces, two piles of sediments. This sediment builds up sedimentary rock, it becomes. The rock is covered up and ends up inside the earth's class, with heaps, and pressure rise it off goes through metamorphosis, becomes a metamorphic rock, then cycle starts One thing to know about this cycle is the order's not specific Rocks and chains to different types based on a different environment, yeah! One thing to know about this cycle is the order's not specific Rocks and chains to different types based on a different environment, yeah! One thing to know about this cycle is the order's not specific Rocks and chains to different types based on a different environment, yeah! One thing to know about this cycle is the order's not specific Rocks and chains to different types based on a different environment, yeah! One thing to know about this cycle is the order's not specific Rocks and chains to different types based on a different environment, yeah!\n"
     ]
    }
   ],
   "source": [
    "for video in videos:\n",
    "    video_utlity_use_case=VideoUtilityUseCase(video=video, logger=loguru_logger, extract_audio=moviepy_extractor, extract_text=speechrecognition)\n",
    "    print(video_utlity_use_case.extract_audio())\n",
    "    print(video_utlity_use_case.transcribe_audio())"
   ],
   "metadata": {
    "collapsed": false,
    "ExecuteTime": {
     "end_time": "2024-06-14T20:26:06.939139Z",
     "start_time": "2024-06-14T20:24:54.712346Z"
    }
   },
   "id": "2eb488471353c116",
   "execution_count": 10
  },
  {
   "cell_type": "code",
   "outputs": [],
   "source": [],
   "metadata": {
    "collapsed": false,
    "ExecuteTime": {
     "end_time": "2024-06-14T20:26:06.941797Z",
     "start_time": "2024-06-14T20:26:06.940216Z"
    }
   },
   "id": "e8c6aaf2d25c53e0",
   "execution_count": 10
  }
 ],
 "metadata": {
  "kernelspec": {
   "display_name": "Python 3",
   "language": "python",
   "name": "python3"
  },
  "language_info": {
   "codemirror_mode": {
    "name": "ipython",
    "version": 2
   },
   "file_extension": ".py",
   "mimetype": "text/x-python",
   "name": "python",
   "nbconvert_exporter": "python",
   "pygments_lexer": "ipython2",
   "version": "2.7.6"
  }
 },
 "nbformat": 4,
 "nbformat_minor": 5
}
