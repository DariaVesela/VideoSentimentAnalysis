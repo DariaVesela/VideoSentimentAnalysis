{
 "cells": [
  {
   "cell_type": "code",
   "execution_count": 1,
   "id": "initial_id",
   "metadata": {
    "collapsed": true,
    "ExecuteTime": {
     "end_time": "2024-06-18T14:12:04.715232Z",
     "start_time": "2024-06-18T14:12:04.093959Z"
    }
   },
   "outputs": [
    {
     "name": "stderr",
     "output_type": "stream",
     "text": [
      "[nltk_data] Downloading package stopwords to\n",
      "[nltk_data]     /Users/dariavesela/nltk_data...\n",
      "[nltk_data]   Package stopwords is already up-to-date!\n",
      "[nltk_data] Downloading package punkt to\n",
      "[nltk_data]     /Users/dariavesela/nltk_data...\n",
      "[nltk_data]   Package punkt is already up-to-date!\n",
      "[nltk_data] Downloading package wordnet to\n",
      "[nltk_data]     /Users/dariavesela/nltk_data...\n",
      "[nltk_data]   Package wordnet is already up-to-date!\n"
     ]
    }
   ],
   "source": [
    "from pathlib import Path\n",
    "from time import time\n",
    "import pandas as pd\n",
    "from videosentimentanalysis.usecases.download_video_use_case import VideoUseCase\n",
    "from videosentimentanalysis.adapters.logging.custom_logger import CustomLogger\n",
    "from videosentimentanalysis.adapters.logging.loguru_logger import LoguruLogger\n",
    "from videosentimentanalysis.adapters.extract_audio.moviepy_extraction import MoviePyAudioExtractor\n",
    "from videosentimentanalysis.usecases.video_utility_use_case import VideoUtilityUseCase\n",
    "from videosentimentanalysis.adapters.transcribe_audio.speechrecognition import SpeechRecognition\n",
    "from videosentimentanalysis.adapters.perform_sentiment_analysis.textblob_analysis import TextBlobAnalysis\n",
    "from videosentimentanalysis.adapters.translate_text.google_translate import TextTranslation\n",
    "from videosentimentanalysis.usecases.protocols.translate_text import LanguageOptions\n",
    "from videosentimentanalysis.adapters.extract_emotions.text2emotion_extractor import GetEmotions"
   ]
  },
  {
   "cell_type": "markdown",
   "source": [
    "EXPLAIN HERE THE ARCHITECTURE OF THE PROJECT\n",
    "\n",
    "To run this project you need to have the following installed:\n",
    "- ffmpeg\n",
    "- python3.12\n",
    "- poetry"
   ],
   "metadata": {
    "collapsed": false
   },
   "id": "ff0c34a28abcf980"
  },
  {
   "cell_type": "markdown",
   "source": [
    "## Setup Adapters\n",
    "### Logging\n"
   ],
   "metadata": {
    "collapsed": false
   },
   "id": "8303710cc04978e7"
  },
  {
   "cell_type": "code",
   "outputs": [],
   "source": [
    "custom_logger = CustomLogger(Path(\"./download_log.txt\"))\n",
    "loguru_logger = LoguruLogger(Path(\"./loguru_logger.log\"))"
   ],
   "metadata": {
    "collapsed": false,
    "ExecuteTime": {
     "end_time": "2024-06-18T14:12:04.721620Z",
     "start_time": "2024-06-18T14:12:04.716277Z"
    }
   },
   "id": "c91558f9537c3b5d",
   "execution_count": 2
  },
  {
   "cell_type": "markdown",
   "source": [
    "### Video Utilities"
   ],
   "metadata": {
    "collapsed": false
   },
   "id": "9ad6290ebef44631"
  },
  {
   "cell_type": "code",
   "outputs": [],
   "source": [
    "\n",
    "moviepy_extractor = MoviePyAudioExtractor(Path(\"./tmp_audio\"))\n",
    "speechrecognition = SpeechRecognition()\n",
    "sentimentanalysis = TextBlobAnalysis()\n",
    "text_translation = TextTranslation()\n",
    "emotion_extraction = GetEmotions()"
   ],
   "metadata": {
    "collapsed": false,
    "ExecuteTime": {
     "end_time": "2024-06-18T14:12:04.723954Z",
     "start_time": "2024-06-18T14:12:04.722236Z"
    }
   },
   "id": "bf07402fe85cda53",
   "execution_count": 3
  },
  {
   "cell_type": "markdown",
   "source": [
    "Load all the Youtube URLs to a Pydantic Model called RawURLVideo"
   ],
   "metadata": {
    "collapsed": false
   },
   "id": "ebbf29a912f67693"
  },
  {
   "cell_type": "code",
   "outputs": [],
   "source": [
    "video_use_case = VideoUseCase(video_output_directory=Path(\"tmp_videos\"), logger=custom_logger)"
   ],
   "metadata": {
    "collapsed": false,
    "ExecuteTime": {
     "end_time": "2024-06-18T14:12:04.726427Z",
     "start_time": "2024-06-18T14:12:04.725093Z"
    }
   },
   "id": "fb51a42197fc85d",
   "execution_count": 4
  },
  {
   "cell_type": "code",
   "outputs": [
    {
     "data": {
      "text/plain": "[RawVideoUrl(url='https://www.youtube.com/watch?v=G025oxyWv0E\\n'),\n RawVideoUrl(url='https://www.youtube.com/watch?v=9dgmp3KmwGg\\n'),\n RawVideoUrl(url='https://www.youtube.com/watch?v=Tx1XIm6q4r4\\n'),\n RawVideoUrl(url='https://www.youtube.com/watch?v=N2xk9nSEgxk\\n'),\n RawVideoUrl(url='https://www.youtube.com/watch?v=NkC9AiJf7gI\\n'),\n RawVideoUrl(url='https://www.youtube.com/watch?v=G7xFfezsJ1s')]"
     },
     "execution_count": 5,
     "metadata": {},
     "output_type": "execute_result"
    }
   ],
   "source": [
    "raw_url_videos=video_use_case.load_raw_url_video(Path('./video_urls.txt'))\n",
    "raw_url_videos"
   ],
   "metadata": {
    "collapsed": false,
    "ExecuteTime": {
     "end_time": "2024-06-18T14:12:04.729987Z",
     "start_time": "2024-06-18T14:12:04.726989Z"
    }
   },
   "id": "a644f01e9f56bc33",
   "execution_count": 5
  },
  {
   "cell_type": "code",
   "outputs": [
    {
     "name": "stdout",
     "output_type": "stream",
     "text": [
      "2024-06-18 14:12:04.855071+00:00 INFO: Bypassed age restriction for video from url='https://www.youtube.com/watch?v=G025oxyWv0E\\n' {} ()\n",
      "2024-06-18 14:12:06.834357+00:00 INFO: Downloaded video from url='https://www.youtube.com/watch?v=G025oxyWv0E\\n' saved to /Users/dariavesela/VideoSentimentAnalysis/videosentimentanalysis/services/tmp_videos/c676a426-0603-4999-b64b-ff0bd8ebdde3If Educational Videos Were Filmed Like Music Videos.mp4 {} ()\n",
      "2024-06-18 14:12:06.945042+00:00 INFO: Bypassed age restriction for video from url='https://www.youtube.com/watch?v=9dgmp3KmwGg\\n' {} ()\n",
      "2024-06-18 14:12:08.152912+00:00 INFO: Downloaded video from url='https://www.youtube.com/watch?v=9dgmp3KmwGg\\n' saved to /Users/dariavesela/VideoSentimentAnalysis/videosentimentanalysis/services/tmp_videos/c6fbeb9e-b005-4cd2-ab5c-53ccd46947f8Casually Explained Guide to College and University.mp4 {} ()\n",
      "2024-06-18 14:12:08.308601+00:00 INFO: Bypassed age restriction for video from url='https://www.youtube.com/watch?v=Tx1XIm6q4r4\\n' {} ()\n",
      "2024-06-18 14:12:09.827976+00:00 INFO: Downloaded video from url='https://www.youtube.com/watch?v=Tx1XIm6q4r4\\n' saved to /Users/dariavesela/VideoSentimentAnalysis/videosentimentanalysis/services/tmp_videos/8b5e3756-2371-474a-ab29-e62d73529591Potter Puppet Pals The Mysterious Ticking Noise.mp4 {} ()\n",
      "2024-06-18 14:12:09.985631+00:00 INFO: Bypassed age restriction for video from url='https://www.youtube.com/watch?v=N2xk9nSEgxk\\n' {} ()\n",
      "2024-06-18 14:12:11.546066+00:00 INFO: Downloaded video from url='https://www.youtube.com/watch?v=N2xk9nSEgxk\\n' saved to /Users/dariavesela/VideoSentimentAnalysis/videosentimentanalysis/services/tmp_videos/d7068aaa-9468-4315-a0d1-ebb0db9d8823Fastest Rap EVER.mp4 {} ()\n",
      "2024-06-18 14:12:11.733553+00:00 INFO: Bypassed age restriction for video from url='https://www.youtube.com/watch?v=NkC9AiJf7gI\\n' {} ()\n",
      "2024-06-18 14:12:14.659824+00:00 INFO: Downloaded video from url='https://www.youtube.com/watch?v=NkC9AiJf7gI\\n' saved to /Users/dariavesela/VideoSentimentAnalysis/videosentimentanalysis/services/tmp_videos/91474c3f-5313-4d21-9827-fce114df1d01THE PARTS OF A CELL SONG  Science Music Video.mp4 {} ()\n",
      "2024-06-18 14:12:14.786410+00:00 INFO: Bypassed age restriction for video from url='https://www.youtube.com/watch?v=G7xFfezsJ1s' {} ()\n",
      "2024-06-18 14:12:16.761761+00:00 INFO: Downloaded video from url='https://www.youtube.com/watch?v=G7xFfezsJ1s' saved to /Users/dariavesela/VideoSentimentAnalysis/videosentimentanalysis/services/tmp_videos/5a12f0bf-67c7-4622-bf4d-3f038c548ee3THE ROCK CYCLE SONG  Science Music Video.mp4 {} ()\n"
     ]
    }
   ],
   "source": [
    "sequential_time_taken = time()\n",
    "video_use_case.download_raw_videos_sequentially(raw_url_videos)\n",
    "sequential_time_taken = time() - sequential_time_taken"
   ],
   "metadata": {
    "collapsed": false,
    "ExecuteTime": {
     "end_time": "2024-06-18T14:12:16.765254Z",
     "start_time": "2024-06-18T14:12:04.730535Z"
    }
   },
   "id": "546d5e8579d1d74b",
   "execution_count": 6
  },
  {
   "cell_type": "code",
   "outputs": [
    {
     "name": "stdout",
     "output_type": "stream",
     "text": [
      "2024-06-18 14:12:16.895949+00:00 INFO: Bypassed age restriction for video from url='https://www.youtube.com/watch?v=NkC9AiJf7gI\\n' {} ()\n",
      "2024-06-18 14:12:16.906816+00:00 INFO: Bypassed age restriction for video from url='https://www.youtube.com/watch?v=Tx1XIm6q4r4\\n' {} ()\n",
      "2024-06-18 14:12:16.911928+00:00 INFO: Bypassed age restriction for video from url='https://www.youtube.com/watch?v=N2xk9nSEgxk\\n' {} ()\n",
      "2024-06-18 14:12:16.921074+00:00 INFO: Bypassed age restriction for video from url='https://www.youtube.com/watch?v=G025oxyWv0E\\n' {} ()\n",
      "2024-06-18 14:12:16.932179+00:00 INFO: Bypassed age restriction for video from url='https://www.youtube.com/watch?v=9dgmp3KmwGg\\n' {} ()\n",
      "2024-06-18 14:12:19.095591+00:00 INFO: Downloaded video from url='https://www.youtube.com/watch?v=9dgmp3KmwGg\\n' saved to /Users/dariavesela/VideoSentimentAnalysis/videosentimentanalysis/services/tmp_videos/eed796b6-2325-406b-b18a-ea7f9db4bf92Casually Explained Guide to College and University.mp4 {} ()\n",
      "2024-06-18 14:12:19.480890+00:00 INFO: Bypassed age restriction for video from url='https://www.youtube.com/watch?v=G7xFfezsJ1s' {} ()\n",
      "2024-06-18 14:12:19.632574+00:00 INFO: Downloaded video from url='https://www.youtube.com/watch?v=Tx1XIm6q4r4\\n' saved to /Users/dariavesela/VideoSentimentAnalysis/videosentimentanalysis/services/tmp_videos/55b33888-4078-48cd-826e-2da2ab49b582Potter Puppet Pals The Mysterious Ticking Noise.mp4 {} ()\n",
      "2024-06-18 14:12:19.890792+00:00 INFO: Downloaded video from url='https://www.youtube.com/watch?v=N2xk9nSEgxk\\n' saved to /Users/dariavesela/VideoSentimentAnalysis/videosentimentanalysis/services/tmp_videos/05096087-055a-47e2-8194-cf4505d80c43Fastest Rap EVER.mp4 {} ()\n",
      "2024-06-18 14:12:19.913603+00:00 INFO: Downloaded video from url='https://www.youtube.com/watch?v=G025oxyWv0E\\n' saved to /Users/dariavesela/VideoSentimentAnalysis/videosentimentanalysis/services/tmp_videos/f1db638b-c795-47b5-b94e-d92523f53d55If Educational Videos Were Filmed Like Music Videos.mp4 {} ()\n",
      "2024-06-18 14:12:20.083857+00:00 INFO: Downloaded video from url='https://www.youtube.com/watch?v=NkC9AiJf7gI\\n' saved to /Users/dariavesela/VideoSentimentAnalysis/videosentimentanalysis/services/tmp_videos/cba17a54-65f2-4538-8cf6-0760aa0eb04aTHE PARTS OF A CELL SONG  Science Music Video.mp4 {} ()\n",
      "2024-06-18 14:12:21.934210+00:00 INFO: Downloaded video from url='https://www.youtube.com/watch?v=G7xFfezsJ1s' saved to /Users/dariavesela/VideoSentimentAnalysis/videosentimentanalysis/services/tmp_videos/de9e7212-de56-4ed0-9cdd-f4fcc0f16848THE ROCK CYCLE SONG  Science Music Video.mp4 {} ()\n"
     ]
    }
   ],
   "source": [
    "threading_time_taken = time()\n",
    "video_use_case.download_raw_videos_threading(raw_url_videos)\n",
    "threading_time_taken = time() - threading_time_taken"
   ],
   "metadata": {
    "collapsed": false,
    "ExecuteTime": {
     "end_time": "2024-06-18T14:12:21.938852Z",
     "start_time": "2024-06-18T14:12:16.766923Z"
    }
   },
   "id": "a17e12ba92a8dae7",
   "execution_count": 7
  },
  {
   "cell_type": "code",
   "outputs": [
    {
     "name": "stdout",
     "output_type": "stream",
     "text": [
      "2024-06-18 14:12:22.236109+00:00 INFO: Bypassed age restriction for video from url='https://www.youtube.com/watch?v=Tx1XIm6q4r4\\n' {} ()\n",
      "2024-06-18 14:12:24.918532+00:00 INFO: Downloaded video from url='https://www.youtube.com/watch?v=Tx1XIm6q4r4\\n' saved to /Users/dariavesela/VideoSentimentAnalysis/videosentimentanalysis/services/tmp_videos/309a85fb-3e0e-4eef-bbfc-6125d899e700Potter Puppet Pals The Mysterious Ticking Noise.mp4 {} ()\n",
      "2024-06-18 14:12:22.246837+00:00 INFO: Bypassed age restriction for video from url='https://www.youtube.com/watch?v=G025oxyWv0E\\n' {} ()\n",
      "2024-06-18 14:12:24.943688+00:00 INFO: Downloaded video from url='https://www.youtube.com/watch?v=G025oxyWv0E\\n' saved to /Users/dariavesela/VideoSentimentAnalysis/videosentimentanalysis/services/tmp_videos/f2bdaa69-bee4-4ec6-9da6-d97291d32a83If Educational Videos Were Filmed Like Music Videos.mp4 {} ()\n",
      "2024-06-18 14:12:22.261759+00:00 INFO: Bypassed age restriction for video from url='https://www.youtube.com/watch?v=NkC9AiJf7gI\\n' {} ()\n",
      "2024-06-18 14:12:24.967578+00:00 INFO: Downloaded video from url='https://www.youtube.com/watch?v=NkC9AiJf7gI\\n' saved to /Users/dariavesela/VideoSentimentAnalysis/videosentimentanalysis/services/tmp_videos/a7022f13-3d6d-4ddb-8197-fde52f870da0THE PARTS OF A CELL SONG  Science Music Video.mp4 {} ()\n",
      "2024-06-18 14:12:22.276538+00:00 INFO: Bypassed age restriction for video from url='https://www.youtube.com/watch?v=N2xk9nSEgxk\\n' {} ()\n",
      "2024-06-18 14:12:25.114951+00:00 INFO: Downloaded video from url='https://www.youtube.com/watch?v=N2xk9nSEgxk\\n' saved to /Users/dariavesela/VideoSentimentAnalysis/videosentimentanalysis/services/tmp_videos/e6656291-c5ad-4528-8539-f24863bc463aFastest Rap EVER.mp4 {} ()\n",
      "2024-06-18 14:12:22.263897+00:00 INFO: Bypassed age restriction for video from url='https://www.youtube.com/watch?v=9dgmp3KmwGg\\n' {} ()\n",
      "2024-06-18 14:12:25.201265+00:00 INFO: Downloaded video from url='https://www.youtube.com/watch?v=9dgmp3KmwGg\\n' saved to /Users/dariavesela/VideoSentimentAnalysis/videosentimentanalysis/services/tmp_videos/53e54c1c-3b09-45e8-9754-404ce2e23817Casually Explained Guide to College and University.mp4 {} ()\n",
      "2024-06-18 14:12:25.134326+00:00 INFO: Bypassed age restriction for video from url='https://www.youtube.com/watch?v=G7xFfezsJ1s' {} ()\n",
      "2024-06-18 14:12:27.068497+00:00 INFO: Downloaded video from url='https://www.youtube.com/watch?v=G7xFfezsJ1s' saved to /Users/dariavesela/VideoSentimentAnalysis/videosentimentanalysis/services/tmp_videos/1ae377bf-cdb8-4085-b75e-a499c0c5f79fTHE ROCK CYCLE SONG  Science Music Video.mp4 {} ()\n"
     ]
    }
   ],
   "source": [
    "process_time_taken = time()\n",
    "videos=video_use_case.download_raw_videos_multiprocessing(raw_url_videos)\n",
    "process_time_taken = time() - process_time_taken"
   ],
   "metadata": {
    "collapsed": false,
    "ExecuteTime": {
     "end_time": "2024-06-18T14:12:27.102277Z",
     "start_time": "2024-06-18T14:12:21.940676Z"
    }
   },
   "id": "286f7c4ea19470d",
   "execution_count": 8
  },
  {
   "cell_type": "markdown",
   "source": [
    "## Results of each method of downloading videos and time taken"
   ],
   "metadata": {
    "collapsed": false
   },
   "id": "1543d56c85aa743a"
  },
  {
   "cell_type": "code",
   "outputs": [
    {
     "data": {
      "text/plain": "            Method  Time Taken\n0       Sequential   12.032584\n1        Threading    5.169038\n2  Multiprocessing    5.158494",
      "text/html": "<div>\n<style scoped>\n    .dataframe tbody tr th:only-of-type {\n        vertical-align: middle;\n    }\n\n    .dataframe tbody tr th {\n        vertical-align: top;\n    }\n\n    .dataframe thead th {\n        text-align: right;\n    }\n</style>\n<table border=\"1\" class=\"dataframe\">\n  <thead>\n    <tr style=\"text-align: right;\">\n      <th></th>\n      <th>Method</th>\n      <th>Time Taken</th>\n    </tr>\n  </thead>\n  <tbody>\n    <tr>\n      <th>0</th>\n      <td>Sequential</td>\n      <td>12.032584</td>\n    </tr>\n    <tr>\n      <th>1</th>\n      <td>Threading</td>\n      <td>5.169038</td>\n    </tr>\n    <tr>\n      <th>2</th>\n      <td>Multiprocessing</td>\n      <td>5.158494</td>\n    </tr>\n  </tbody>\n</table>\n</div>"
     },
     "execution_count": 9,
     "metadata": {},
     "output_type": "execute_result"
    }
   ],
   "source": [
    "pd.DataFrame({\n",
    "    \"Method\": [\"Sequential\", \"Threading\", \"Multiprocessing\"],\n",
    "    \"Time Taken\": [sequential_time_taken, threading_time_taken, process_time_taken]\n",
    "})"
   ],
   "metadata": {
    "collapsed": false,
    "ExecuteTime": {
     "end_time": "2024-06-18T14:12:27.112349Z",
     "start_time": "2024-06-18T14:12:27.103864Z"
    }
   },
   "id": "c88f7f5ac315eb96",
   "execution_count": 9
  },
  {
   "cell_type": "markdown",
   "source": [
    "Blah Blah Blah Monkey stuff"
   ],
   "metadata": {
    "collapsed": false
   },
   "id": "cf12ddfd57466ce7"
  },
  {
   "cell_type": "code",
   "outputs": [
    {
     "name": "stderr",
     "output_type": "stream",
     "text": [
      "\u001B[32m2024-06-18 15:12:27.116\u001B[0m | \u001B[1mINFO    \u001B[0m | \u001B[36mvideosentimentanalysis.adapters.logging.loguru_logger\u001B[0m:\u001B[36minfo\u001B[0m:\u001B[36m17\u001B[0m - \u001B[1mExtracting audio from video If Educational Videos Were Filmed Like Music Videos\u001B[0m\n"
     ]
    },
    {
     "name": "stdout",
     "output_type": "stream",
     "text": [
      "MoviePy - Writing audio in tmp_audio/If Educational Videos Were Filmed Like Music Videos.wav\n"
     ]
    },
    {
     "name": "stderr",
     "output_type": "stream",
     "text": [
      "\u001B[32m2024-06-18 15:12:27.733\u001B[0m | \u001B[1mINFO    \u001B[0m | \u001B[36mvideosentimentanalysis.adapters.logging.loguru_logger\u001B[0m:\u001B[36mlog\u001B[0m:\u001B[36m14\u001B[0m - \u001B[1mTranscribing audio from video If Educational Videos Were Filmed Like Music Videos\u001B[0m\n"
     ]
    },
    {
     "name": "stdout",
     "output_type": "stream",
     "text": [
      "MoviePy - Done.\n"
     ]
    },
    {
     "name": "stderr",
     "output_type": "stream",
     "text": [
      "\u001B[32m2024-06-18 15:12:38.691\u001B[0m | \u001B[1mINFO    \u001B[0m | \u001B[36mvideosentimentanalysis.adapters.logging.loguru_logger\u001B[0m:\u001B[36minfo\u001B[0m:\u001B[36m17\u001B[0m - \u001B[1mPerforming sentiment analysis on video If Educational Videos Were Filmed Like Music Videos\u001B[0m\n",
      "\u001B[32m2024-06-18 15:12:38.710\u001B[0m | \u001B[1mINFO    \u001B[0m | \u001B[36mvideosentimentanalysis.adapters.logging.loguru_logger\u001B[0m:\u001B[36minfo\u001B[0m:\u001B[36m17\u001B[0m - \u001B[1mReturning cached audio for video If Educational Videos Were Filmed Like Music Videos\u001B[0m\n",
      "\u001B[32m2024-06-18 15:12:38.711\u001B[0m | \u001B[1mINFO    \u001B[0m | \u001B[36mvideosentimentanalysis.adapters.logging.loguru_logger\u001B[0m:\u001B[36minfo\u001B[0m:\u001B[36m17\u001B[0m - \u001B[1mReturning cached audio for video If Educational Videos Were Filmed Like Music Videos\u001B[0m\n",
      "\u001B[32m2024-06-18 15:12:38.711\u001B[0m | \u001B[1mINFO    \u001B[0m | \u001B[36mvideosentimentanalysis.adapters.logging.loguru_logger\u001B[0m:\u001B[36mlog\u001B[0m:\u001B[36m14\u001B[0m - \u001B[1mTranscribing audio from video If Educational Videos Were Filmed Like Music Videos\u001B[0m\n"
     ]
    },
    {
     "name": "stdout",
     "output_type": "stream",
     "text": [
      "(0.054621848739495785, 0.054621848739495785)\n",
      "local_storage_path=PosixPath('tmp_audio/If Educational Videos Were Filmed Like Music Videos.wav')\n"
     ]
    },
    {
     "name": "stderr",
     "output_type": "stream",
     "text": [
      "\u001B[32m2024-06-18 15:12:48.770\u001B[0m | \u001B[1mINFO    \u001B[0m | \u001B[36mvideosentimentanalysis.adapters.logging.loguru_logger\u001B[0m:\u001B[36minfo\u001B[0m:\u001B[36m17\u001B[0m - \u001B[1mReturning cached audio for video If Educational Videos Were Filmed Like Music Videos\u001B[0m\n",
      "\u001B[32m2024-06-18 15:12:48.771\u001B[0m | \u001B[1mINFO    \u001B[0m | \u001B[36mvideosentimentanalysis.adapters.logging.loguru_logger\u001B[0m:\u001B[36mlog\u001B[0m:\u001B[36m14\u001B[0m - \u001B[1mTranscribing audio from video If Educational Videos Were Filmed Like Music Videos\u001B[0m\n"
     ]
    },
    {
     "name": "stdout",
     "output_type": "stream",
     "text": [
      " The opening shot is a little confusing and a little unreal. That sense of unreality is because nearly every shot in this video is being played back at the wrong speed. We filmed this section at 30 frames a second, but it's being played back at 24, 80% of normal speed. So it just seems a little bit off. Plus we're using rapid cuts with no continuity between them, different clothes, different locations, different everything. We've also got some cutaways in extreme slow motion, because it looks spectacular, and because it lets me do a moody stare into the distance without having to hold it for so long that it becomes awkward. It also lets us fit in some product placement. Some of the shots aren't slow motion though. This is being played back faster than real time, so that the dancers seem more synchronised and precise than they really are. I mean, don't get me wrong, they're good, but would the speed change their movements look superhuman? Also, there are dancers, because having attractive people move in attractive ways makes the video more appealing. We couldn't afford a wind machine for this shot, so we bought a leaf blower from a hardware store. We kept the receipt, so we can return it after we're done. The trouble with filming everything in the wrong frame rate is that my voice won't sound right, so the vocal track for this was pre-recorded in a studio, and I'm lip syncing it at the wrong speed. If my lips don't quite match up at some point, we'll just cut to another take, or to a completely random, slow-mo shot of an object being destroyed, and no one will care. Actually, this isn't the studio where we recorded the vocal track. I recorded this weeks ago, so we could plan everything, but we didn't film that session, so we had to go to this separate recording studio to fake that footage. This microphone isn't even plugged in. We're now about two dozen of the way through, so here's a middle eight from me, the featured artist, in an attempt to cross promote us. Our schedule didn't match up, so this was all filmed separately. Despite that, we're still trying to convince everyone that Tom and I met up, a great friend, and they're definitely in the same room. This is the part where we break up the video with a bit of diagetic audio, just so people can't rip the whole thing off YouTube. This isn't actually a party. It may look like we're having a spectacular time, as that's the image we want to project, but in reality, we are on our 15th take. Everyone would quite like to go home. This final section is important, though, because it resolves the question at the start, why am I falling into a swimming pool? Because ending the same way we started makes the audience think that there's a sensible, circular narrative that ties everything together, even if there isn't. You can't buy this on iTunes or stream it on Spotify. It's not a song.\n",
      "El primer plano es un poco confuso y un poco irreal. Esa sensación de irrealidad se debe a que casi todas las tomas de este vídeo se reproducen a la velocidad incorrecta. Filmamos esta sección a 30 cuadros por segundo, pero se reproduce a 24, 80% de la velocidad normal. Entonces parece un poco fuera de lugar. Además estamos usando cortes rápidos sin continuidad entre ellos, ropa diferente, ubicaciones diferentes, todo diferente. También tenemos algunos cortes en cámara extremadamente lenta, porque se ve espectacular y porque me permite mirar de mal humor a lo lejos sin tener que sostenerlo por tanto tiempo que se vuelva incómodo. También nos permite encajar en la colocación de algunos productos. Algunas de las tomas, sin embargo, no son en cámara lenta. Esto se reproduce más rápido que en tiempo real, de modo que los bailarines parecen más sincronizados y precisos de lo que realmente son. Quiero decir, no me malinterpretes, son buenos, pero ¿el cambio de velocidad haría que sus movimientos parecieran sobrehumanos? Además, hay bailarines, porque tener personas atractivas que se muevan de maneras atractivas hace que el vídeo sea más atractivo. No podíamos permitirnos una máquina de viento para esta toma, así que compramos un soplador de hojas en una ferretería. Guardamos el recibo para poder devolverlo una vez que hayamos terminado. El problema de filmar todo con una velocidad de fotogramas incorrecta es que mi voz no sonará bien, por lo que la pista vocal para esto fue pregrabada en un estudio y estoy sincronizando los labios a la velocidad incorrecta. Si mis labios no coinciden en algún momento, simplemente pasaremos a otra toma, o a una toma en cámara lenta completamente aleatoria de un objeto siendo destruido, y a nadie le importará. En realidad, este no es el estudio donde grabamos la pista vocal. Grabé esto hace semanas, para que pudiéramos planear todo, pero no filmamos esa sesión, así que tuvimos que ir a este estudio de grabación separado para falsificar ese metraje. Este micrófono ni siquiera está enchufado. Ya hemos recorrido unas dos docenas, así que aquí hay un ocho del medio de mi parte, el artista destacado, en un intento de promocionarnos. Nuestro horario no coincidía, así que todo esto se filmó por separado. A pesar de eso, todavía estamos tratando de convencer a todos de que Tom y yo nos conocimos, somos un gran amigo, y definitivamente estamos en la misma habitación. Esta es la parte en la que dividimos el vídeo con un poco de audio diagético, para que la gente no pueda copiarlo todo de YouTube. En realidad, esto no es una fiesta. Puede parecer que lo estamos pasando espectacular, ya que esa es la imagen que queremos proyectar, pero en realidad estamos en nuestra toma número 15. A todos les gustaría volver a casa. Sin embargo, esta sección final es importante porque resuelve la pregunta inicial: ¿por qué me caigo a una piscina? Porque terminar de la misma manera que empezamos hace que el público piense que hay una narrativa circular sensata que une todo, incluso si no la hay. No puedes comprarlo en iTunes ni transmitirlo en Spotify. No es una canción.\n"
     ]
    },
    {
     "ename": "TypeError",
     "evalue": "'GetEmotions' object is not callable",
     "output_type": "error",
     "traceback": [
      "\u001B[0;31m---------------------------------------------------------------------------\u001B[0m",
      "\u001B[0;31mTypeError\u001B[0m                                 Traceback (most recent call last)",
      "Cell \u001B[0;32mIn[10], line 7\u001B[0m\n\u001B[1;32m      5\u001B[0m \u001B[38;5;28mprint\u001B[39m(video_utlity_use_case\u001B[38;5;241m.\u001B[39mtranscribe_audio())\n\u001B[1;32m      6\u001B[0m \u001B[38;5;28mprint\u001B[39m(video_utlity_use_case\u001B[38;5;241m.\u001B[39mtranslate_text(source_lang\u001B[38;5;241m=\u001B[39mLanguageOptions\u001B[38;5;241m.\u001B[39mENGLISH, target_lang\u001B[38;5;241m=\u001B[39mLanguageOptions\u001B[38;5;241m.\u001B[39mSPANISH))\n\u001B[0;32m----> 7\u001B[0m \u001B[38;5;28mprint\u001B[39m(\u001B[43mvideo_utlity_use_case\u001B[49m\u001B[38;5;241;43m.\u001B[39;49m\u001B[43mextract_emotions\u001B[49m\u001B[43m(\u001B[49m\u001B[43m)\u001B[49m)\n",
      "\u001B[0;31mTypeError\u001B[0m: 'GetEmotions' object is not callable"
     ]
    }
   ],
   "source": [
    "\n",
    "for video in videos:\n",
    "    video_utlity_use_case=VideoUtilityUseCase(video=video, logger=loguru_logger, extract_audio=moviepy_extractor, extract_text=speechrecognition, extract_polarity_and_sensitivity=sentimentanalysis, translate=text_translation,extract_emotions=emotion_extraction)\n",
    "    print(video_utlity_use_case.get_sentiment_analysis())\n",
    "    print(video_utlity_use_case.extract_audio())\n",
    "    print(video_utlity_use_case.transcribe_audio())\n",
    "    print(video_utlity_use_case.translate_text(source_lang=LanguageOptions.ENGLISH, target_lang=LanguageOptions.SPANISH))\n",
    "    print(video_utlity_use_case.extract_emotions())"
   ],
   "metadata": {
    "collapsed": false,
    "ExecuteTime": {
     "end_time": "2024-06-18T14:12:59.928692Z",
     "start_time": "2024-06-18T14:12:27.114595Z"
    }
   },
   "id": "2eb488471353c116",
   "execution_count": 10
  },
  {
   "cell_type": "code",
   "outputs": [],
   "source": [],
   "metadata": {
    "collapsed": false
   },
   "id": "e8c6aaf2d25c53e0",
   "execution_count": null
  }
 ],
 "metadata": {
  "kernelspec": {
   "display_name": "Python 3",
   "language": "python",
   "name": "python3"
  },
  "language_info": {
   "codemirror_mode": {
    "name": "ipython",
    "version": 2
   },
   "file_extension": ".py",
   "mimetype": "text/x-python",
   "name": "python",
   "nbconvert_exporter": "python",
   "pygments_lexer": "ipython2",
   "version": "2.7.6"
  }
 },
 "nbformat": 4,
 "nbformat_minor": 5
}
