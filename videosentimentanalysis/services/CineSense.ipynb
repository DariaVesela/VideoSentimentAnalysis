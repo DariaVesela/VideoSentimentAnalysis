{
 "cells": [
  {
   "cell_type": "code",
   "execution_count": 1,
   "id": "initial_id",
   "metadata": {
    "collapsed": true,
    "ExecuteTime": {
     "end_time": "2024-06-14T23:32:26.755078Z",
     "start_time": "2024-06-14T23:32:26.281029Z"
    }
   },
   "outputs": [],
   "source": [
    "from pathlib import Path\n",
    "from time import time\n",
    "import pandas as pd\n",
    "from videosentimentanalysis.usecases.download_video_use_case import VideoUseCase\n",
    "from videosentimentanalysis.adapters.logging.custom_logger import CustomLogger\n",
    "from videosentimentanalysis.adapters.logging.loguru_logger import LoguruLogger\n",
    "from videosentimentanalysis.adapters.extract_audio.moviepy_extraction import MoviePyAudioExtractor\n",
    "from videosentimentanalysis.usecases.video_utility_use_case import VideoUtilityUseCase\n",
    "from videosentimentanalysis.adapters.transcribe_audio.speechrecognition import SpeechRecognition\n",
    "from videosentimentanalysis.adapters.perform_sentiment_analysis.textblob_analysis import TextBlobAnalysis\n",
    "from videosentimentanalysis.adapters.translate_text.google_translate import TextTranslation\n",
    "from videosentimentanalysis.usecases.protocols.translate_text import LanguageOptions\n"
   ]
  },
  {
   "cell_type": "markdown",
   "source": [
    "EXPLAIN HERE THE ARCHITECTURE OF THE PROJECT\n",
    "\n",
    "To run this project you need to have the following installed:\n",
    "- ffmpeg\n",
    "- python3.12\n",
    "- poetry"
   ],
   "metadata": {
    "collapsed": false
   },
   "id": "ff0c34a28abcf980"
  },
  {
   "cell_type": "markdown",
   "source": [
    "## Setup Adapters\n",
    "### Logging\n"
   ],
   "metadata": {
    "collapsed": false
   },
   "id": "8303710cc04978e7"
  },
  {
   "cell_type": "code",
   "outputs": [],
   "source": [
    "custom_logger = CustomLogger(Path(\"./download_log.txt\"))\n",
    "loguru_logger = LoguruLogger(Path(\"./loguru_logger.log\"))"
   ],
   "metadata": {
    "collapsed": false,
    "ExecuteTime": {
     "end_time": "2024-06-14T23:32:26.762026Z",
     "start_time": "2024-06-14T23:32:26.756387Z"
    }
   },
   "id": "c91558f9537c3b5d",
   "execution_count": 2
  },
  {
   "cell_type": "markdown",
   "source": [
    "### Video Utilities"
   ],
   "metadata": {
    "collapsed": false
   },
   "id": "9ad6290ebef44631"
  },
  {
   "cell_type": "code",
   "outputs": [],
   "source": [
    "moviepy_extractor = MoviePyAudioExtractor(Path(\"./tmp_audio\"))\n",
    "speechrecognition = SpeechRecognition()\n",
    "sentimentanalysis = TextBlobAnalysis()\n",
    "text_translation = TextTranslation()"
   ],
   "metadata": {
    "collapsed": false,
    "ExecuteTime": {
     "end_time": "2024-06-14T23:32:26.764336Z",
     "start_time": "2024-06-14T23:32:26.762674Z"
    }
   },
   "id": "bf07402fe85cda53",
   "execution_count": 3
  },
  {
   "cell_type": "markdown",
   "source": [
    "Load all the Youtube URLs to a Pydantic Model called RawURLVideo"
   ],
   "metadata": {
    "collapsed": false
   },
   "id": "ebbf29a912f67693"
  },
  {
   "cell_type": "code",
   "outputs": [],
   "source": [
    "video_use_case = VideoUseCase(video_output_directory=Path(\"tmp_videos\"), logger=custom_logger)"
   ],
   "metadata": {
    "collapsed": false,
    "ExecuteTime": {
     "end_time": "2024-06-14T23:32:26.766546Z",
     "start_time": "2024-06-14T23:32:26.765056Z"
    }
   },
   "id": "fb51a42197fc85d",
   "execution_count": 4
  },
  {
   "cell_type": "code",
   "outputs": [
    {
     "data": {
      "text/plain": "[RawVideoUrl(url='https://www.youtube.com/watch?v=G025oxyWv0E\\n'),\n RawVideoUrl(url='https://www.youtube.com/watch?v=9dgmp3KmwGg\\n'),\n RawVideoUrl(url='https://www.youtube.com/watch?v=Tx1XIm6q4r4\\n'),\n RawVideoUrl(url='https://www.youtube.com/watch?v=N2xk9nSEgxk\\n'),\n RawVideoUrl(url='https://www.youtube.com/watch?v=NkC9AiJf7gI\\n'),\n RawVideoUrl(url='https://www.youtube.com/watch?v=G7xFfezsJ1s')]"
     },
     "execution_count": 5,
     "metadata": {},
     "output_type": "execute_result"
    }
   ],
   "source": [
    "raw_url_videos=video_use_case.load_raw_url_video(Path('./video_urls.txt'))\n",
    "raw_url_videos"
   ],
   "metadata": {
    "collapsed": false,
    "ExecuteTime": {
     "end_time": "2024-06-14T23:32:26.770920Z",
     "start_time": "2024-06-14T23:32:26.767960Z"
    }
   },
   "id": "a644f01e9f56bc33",
   "execution_count": 5
  },
  {
   "cell_type": "code",
   "outputs": [
    {
     "name": "stdout",
     "output_type": "stream",
     "text": [
      "2024-06-14 23:32:26.888722+00:00 INFO: Bypassed age restriction for video from url='https://www.youtube.com/watch?v=G025oxyWv0E\\n' {} ()\n",
      "2024-06-14 23:32:28.085926+00:00 INFO: Downloaded video from url='https://www.youtube.com/watch?v=G025oxyWv0E\\n' saved to /Users/dariavesela/VideoSentimentAnalysis/videosentimentanalysis/services/tmp_videos/cf5224ba-8e98-4c20-8724-de1892a34c86If Educational Videos Were Filmed Like Music Videos.mp4 {} ()\n",
      "2024-06-14 23:32:28.179858+00:00 INFO: Bypassed age restriction for video from url='https://www.youtube.com/watch?v=9dgmp3KmwGg\\n' {} ()\n",
      "2024-06-14 23:32:29.020593+00:00 INFO: Downloaded video from url='https://www.youtube.com/watch?v=9dgmp3KmwGg\\n' saved to /Users/dariavesela/VideoSentimentAnalysis/videosentimentanalysis/services/tmp_videos/1def663e-d62d-4e76-82fb-6f517a6d2cf1Casually Explained Guide to College and University.mp4 {} ()\n",
      "2024-06-14 23:32:29.118942+00:00 INFO: Bypassed age restriction for video from url='https://www.youtube.com/watch?v=Tx1XIm6q4r4\\n' {} ()\n",
      "2024-06-14 23:32:30.115157+00:00 INFO: Downloaded video from url='https://www.youtube.com/watch?v=Tx1XIm6q4r4\\n' saved to /Users/dariavesela/VideoSentimentAnalysis/videosentimentanalysis/services/tmp_videos/1f9f6433-a78b-423b-b0e4-b8e125ee5704Potter Puppet Pals The Mysterious Ticking Noise.mp4 {} ()\n",
      "2024-06-14 23:32:30.211342+00:00 INFO: Bypassed age restriction for video from url='https://www.youtube.com/watch?v=N2xk9nSEgxk\\n' {} ()\n",
      "2024-06-14 23:32:31.138401+00:00 INFO: Downloaded video from url='https://www.youtube.com/watch?v=N2xk9nSEgxk\\n' saved to /Users/dariavesela/VideoSentimentAnalysis/videosentimentanalysis/services/tmp_videos/26ecc3dc-ee07-43c8-ad4f-c17bc06ee458Fastest Rap EVER.mp4 {} ()\n",
      "2024-06-14 23:32:31.231330+00:00 INFO: Bypassed age restriction for video from url='https://www.youtube.com/watch?v=NkC9AiJf7gI\\n' {} ()\n",
      "2024-06-14 23:32:32.219952+00:00 INFO: Downloaded video from url='https://www.youtube.com/watch?v=NkC9AiJf7gI\\n' saved to /Users/dariavesela/VideoSentimentAnalysis/videosentimentanalysis/services/tmp_videos/f94afe8e-31a7-4586-a059-77536d68481cTHE PARTS OF A CELL SONG  Science Music Video.mp4 {} ()\n",
      "2024-06-14 23:32:32.309347+00:00 INFO: Bypassed age restriction for video from url='https://www.youtube.com/watch?v=G7xFfezsJ1s' {} ()\n",
      "2024-06-14 23:32:33.378852+00:00 INFO: Downloaded video from url='https://www.youtube.com/watch?v=G7xFfezsJ1s' saved to /Users/dariavesela/VideoSentimentAnalysis/videosentimentanalysis/services/tmp_videos/b5a3e39f-38ff-4b16-892b-1bfddaa6814aTHE ROCK CYCLE SONG  Science Music Video.mp4 {} ()\n"
     ]
    }
   ],
   "source": [
    "sequential_time_taken = time()\n",
    "video_use_case.download_raw_videos_sequentially(raw_url_videos)\n",
    "sequential_time_taken = time() - sequential_time_taken"
   ],
   "metadata": {
    "collapsed": false,
    "ExecuteTime": {
     "end_time": "2024-06-14T23:32:33.380614Z",
     "start_time": "2024-06-14T23:32:26.771514Z"
    }
   },
   "id": "546d5e8579d1d74b",
   "execution_count": 6
  },
  {
   "cell_type": "code",
   "outputs": [
    {
     "name": "stdout",
     "output_type": "stream",
     "text": [
      "2024-06-14 23:32:33.480462+00:00 INFO: Bypassed age restriction for video from url='https://www.youtube.com/watch?v=9dgmp3KmwGg\\n' {} ()\n",
      "2024-06-14 23:32:33.495825+00:00 INFO: Bypassed age restriction for video from url='https://www.youtube.com/watch?v=NkC9AiJf7gI\\n' {} ()\n",
      "2024-06-14 23:32:33.515230+00:00 INFO: Bypassed age restriction for video from url='https://www.youtube.com/watch?v=G025oxyWv0E\\n' {} ()\n",
      "2024-06-14 23:32:33.514318+00:00 INFO: Bypassed age restriction for video from url='https://www.youtube.com/watch?v=N2xk9nSEgxk\\n' {} ()\n",
      "2024-06-14 23:32:33.567691+00:00 INFO: Bypassed age restriction for video from url='https://www.youtube.com/watch?v=Tx1XIm6q4r4\\n' {} ()\n",
      "2024-06-14 23:32:35.601086+00:00 INFO: Downloaded video from url='https://www.youtube.com/watch?v=G025oxyWv0E\\n' saved to /Users/dariavesela/VideoSentimentAnalysis/videosentimentanalysis/services/tmp_videos/15e7234f-99cc-40c8-b3ac-a6473b820cf1If Educational Videos Were Filmed Like Music Videos.mp4 {} ()\n",
      "2024-06-14 23:32:35.632789+00:00 INFO: Downloaded video from url='https://www.youtube.com/watch?v=NkC9AiJf7gI\\n' saved to /Users/dariavesela/VideoSentimentAnalysis/videosentimentanalysis/services/tmp_videos/5ceb0033-b757-4ab5-814e-02cd8a57fc65THE PARTS OF A CELL SONG  Science Music Video.mp4 {} ()\n",
      "2024-06-14 23:32:35.675781+00:00 INFO: Downloaded video from url='https://www.youtube.com/watch?v=Tx1XIm6q4r4\\n' saved to /Users/dariavesela/VideoSentimentAnalysis/videosentimentanalysis/services/tmp_videos/5b77c11e-0182-4c47-abb7-ec70f24092c0Potter Puppet Pals The Mysterious Ticking Noise.mp4 {} ()\n",
      "2024-06-14 23:32:35.729031+00:00 INFO: Bypassed age restriction for video from url='https://www.youtube.com/watch?v=G7xFfezsJ1s' {} ()\n",
      "2024-06-14 23:32:35.742981+00:00 INFO: Downloaded video from url='https://www.youtube.com/watch?v=9dgmp3KmwGg\\n' saved to /Users/dariavesela/VideoSentimentAnalysis/videosentimentanalysis/services/tmp_videos/8eefa079-3230-4075-bab6-a3f8070f27deCasually Explained Guide to College and University.mp4 {} ()\n",
      "2024-06-14 23:32:35.781852+00:00 INFO: Downloaded video from url='https://www.youtube.com/watch?v=N2xk9nSEgxk\\n' saved to /Users/dariavesela/VideoSentimentAnalysis/videosentimentanalysis/services/tmp_videos/022a7812-27ac-47a5-830f-9de9c648e799Fastest Rap EVER.mp4 {} ()\n",
      "2024-06-14 23:32:36.610803+00:00 INFO: Downloaded video from url='https://www.youtube.com/watch?v=G7xFfezsJ1s' saved to /Users/dariavesela/VideoSentimentAnalysis/videosentimentanalysis/services/tmp_videos/ed31752b-2a64-4150-8c75-f2dfe104c2cfTHE ROCK CYCLE SONG  Science Music Video.mp4 {} ()\n"
     ]
    }
   ],
   "source": [
    "threading_time_taken = time()\n",
    "video_use_case.download_raw_videos_threading(raw_url_videos)\n",
    "threading_time_taken = time() - threading_time_taken"
   ],
   "metadata": {
    "collapsed": false,
    "ExecuteTime": {
     "end_time": "2024-06-14T23:32:36.613812Z",
     "start_time": "2024-06-14T23:32:33.381432Z"
    }
   },
   "id": "a17e12ba92a8dae7",
   "execution_count": 7
  },
  {
   "cell_type": "code",
   "outputs": [
    {
     "name": "stdout",
     "output_type": "stream",
     "text": [
      "2024-06-14 23:32:36.910371+00:00 INFO: Bypassed age restriction for video from url='https://www.youtube.com/watch?v=Tx1XIm6q4r4\\n' {} ()\n",
      "2024-06-14 23:32:38.096295+00:00 INFO: Downloaded video from url='https://www.youtube.com/watch?v=Tx1XIm6q4r4\\n' saved to /Users/dariavesela/VideoSentimentAnalysis/videosentimentanalysis/services/tmp_videos/93662757-0e17-4351-b76a-808e778a3962Potter Puppet Pals The Mysterious Ticking Noise.mp4 {} ()\n",
      "2024-06-14 23:32:36.908726+00:00 INFO: Bypassed age restriction for video from url='https://www.youtube.com/watch?v=9dgmp3KmwGg\\n' {} ()\n",
      "2024-06-14 23:32:38.103598+00:00 INFO: Downloaded video from url='https://www.youtube.com/watch?v=9dgmp3KmwGg\\n' saved to /Users/dariavesela/VideoSentimentAnalysis/videosentimentanalysis/services/tmp_videos/3bde2f81-b351-44e7-adfe-10c6c3425f32Casually Explained Guide to College and University.mp4 {} ()\n",
      "2024-06-14 23:32:36.913678+00:00 INFO: Bypassed age restriction for video from url='https://www.youtube.com/watch?v=G025oxyWv0E\\n' {} ()\n",
      "2024-06-14 23:32:38.253460+00:00 INFO: Downloaded video from url='https://www.youtube.com/watch?v=G025oxyWv0E\\n' saved to /Users/dariavesela/VideoSentimentAnalysis/videosentimentanalysis/services/tmp_videos/c930eef5-9fbc-48ce-9722-5b2b5f9894d0If Educational Videos Were Filmed Like Music Videos.mp4 {} ()\n",
      "2024-06-14 23:32:36.938410+00:00 INFO: Bypassed age restriction for video from url='https://www.youtube.com/watch?v=NkC9AiJf7gI\\n' {} ()\n",
      "2024-06-14 23:32:38.417630+00:00 INFO: Downloaded video from url='https://www.youtube.com/watch?v=NkC9AiJf7gI\\n' saved to /Users/dariavesela/VideoSentimentAnalysis/videosentimentanalysis/services/tmp_videos/c25ff613-8dbc-4ac4-a0bd-27e0d87ea4a6THE PARTS OF A CELL SONG  Science Music Video.mp4 {} ()\n",
      "2024-06-14 23:32:36.913529+00:00 INFO: Bypassed age restriction for video from url='https://www.youtube.com/watch?v=N2xk9nSEgxk\\n' {} ()\n",
      "2024-06-14 23:32:38.482254+00:00 INFO: Downloaded video from url='https://www.youtube.com/watch?v=N2xk9nSEgxk\\n' saved to /Users/dariavesela/VideoSentimentAnalysis/videosentimentanalysis/services/tmp_videos/44be03cd-7b8e-4d7f-878c-657c8d4f63aeFastest Rap EVER.mp4 {} ()\n",
      "2024-06-14 23:32:38.291797+00:00 INFO: Bypassed age restriction for video from url='https://www.youtube.com/watch?v=G7xFfezsJ1s' {} ()\n",
      "2024-06-14 23:32:39.765500+00:00 INFO: Downloaded video from url='https://www.youtube.com/watch?v=G7xFfezsJ1s' saved to /Users/dariavesela/VideoSentimentAnalysis/videosentimentanalysis/services/tmp_videos/3b194544-4341-4470-bc00-1c0591a7fd8cTHE ROCK CYCLE SONG  Science Music Video.mp4 {} ()\n"
     ]
    }
   ],
   "source": [
    "process_time_taken = time()\n",
    "videos=video_use_case.download_raw_videos_multiprocessing(raw_url_videos)\n",
    "process_time_taken = time() - process_time_taken"
   ],
   "metadata": {
    "collapsed": false,
    "ExecuteTime": {
     "end_time": "2024-06-14T23:32:39.792234Z",
     "start_time": "2024-06-14T23:32:36.614798Z"
    }
   },
   "id": "286f7c4ea19470d",
   "execution_count": 8
  },
  {
   "cell_type": "markdown",
   "source": [
    "## Results of each method of downloading videos and time taken"
   ],
   "metadata": {
    "collapsed": false
   },
   "id": "1543d56c85aa743a"
  },
  {
   "cell_type": "code",
   "outputs": [
    {
     "data": {
      "text/plain": "            Method  Time Taken\n0       Sequential    6.607497\n1        Threading    3.230182\n2  Multiprocessing    3.175031",
      "text/html": "<div>\n<style scoped>\n    .dataframe tbody tr th:only-of-type {\n        vertical-align: middle;\n    }\n\n    .dataframe tbody tr th {\n        vertical-align: top;\n    }\n\n    .dataframe thead th {\n        text-align: right;\n    }\n</style>\n<table border=\"1\" class=\"dataframe\">\n  <thead>\n    <tr style=\"text-align: right;\">\n      <th></th>\n      <th>Method</th>\n      <th>Time Taken</th>\n    </tr>\n  </thead>\n  <tbody>\n    <tr>\n      <th>0</th>\n      <td>Sequential</td>\n      <td>6.607497</td>\n    </tr>\n    <tr>\n      <th>1</th>\n      <td>Threading</td>\n      <td>3.230182</td>\n    </tr>\n    <tr>\n      <th>2</th>\n      <td>Multiprocessing</td>\n      <td>3.175031</td>\n    </tr>\n  </tbody>\n</table>\n</div>"
     },
     "execution_count": 9,
     "metadata": {},
     "output_type": "execute_result"
    }
   ],
   "source": [
    "pd.DataFrame({\n",
    "    \"Method\": [\"Sequential\", \"Threading\", \"Multiprocessing\"],\n",
    "    \"Time Taken\": [sequential_time_taken, threading_time_taken, process_time_taken]\n",
    "})"
   ],
   "metadata": {
    "collapsed": false,
    "ExecuteTime": {
     "end_time": "2024-06-14T23:32:39.801113Z",
     "start_time": "2024-06-14T23:32:39.793542Z"
    }
   },
   "id": "c88f7f5ac315eb96",
   "execution_count": 9
  },
  {
   "cell_type": "markdown",
   "source": [
    "Blah Blah Blah Monkey stuff"
   ],
   "metadata": {
    "collapsed": false
   },
   "id": "cf12ddfd57466ce7"
  },
  {
   "cell_type": "code",
   "outputs": [
    {
     "name": "stderr",
     "output_type": "stream",
     "text": [
      "\u001B[32m2024-06-15 00:32:39.803\u001B[0m | \u001B[1mINFO    \u001B[0m | \u001B[36mvideosentimentanalysis.adapters.logging.loguru_logger\u001B[0m:\u001B[36minfo\u001B[0m:\u001B[36m17\u001B[0m - \u001B[1mExtracting audio from video If Educational Videos Were Filmed Like Music Videos\u001B[0m\n"
     ]
    },
    {
     "name": "stdout",
     "output_type": "stream",
     "text": [
      "MoviePy - Writing audio in tmp_audio/If Educational Videos Were Filmed Like Music Videos.wav\n"
     ]
    },
    {
     "name": "stderr",
     "output_type": "stream",
     "text": [
      "\u001B[32m2024-06-15 00:32:40.413\u001B[0m | \u001B[1mINFO    \u001B[0m | \u001B[36mvideosentimentanalysis.adapters.logging.loguru_logger\u001B[0m:\u001B[36mlog\u001B[0m:\u001B[36m14\u001B[0m - \u001B[1mTranscribing audio from video If Educational Videos Were Filmed Like Music Videos\u001B[0m\n"
     ]
    },
    {
     "name": "stdout",
     "output_type": "stream",
     "text": [
      "MoviePy - Done.\n"
     ]
    },
    {
     "name": "stderr",
     "output_type": "stream",
     "text": [
      "\u001B[32m2024-06-15 00:32:51.670\u001B[0m | \u001B[1mINFO    \u001B[0m | \u001B[36mvideosentimentanalysis.adapters.logging.loguru_logger\u001B[0m:\u001B[36minfo\u001B[0m:\u001B[36m17\u001B[0m - \u001B[1mPerforming sentiment analysis on video If Educational Videos Were Filmed Like Music Videos\u001B[0m\n",
      "\u001B[32m2024-06-15 00:32:51.690\u001B[0m | \u001B[1mINFO    \u001B[0m | \u001B[36mvideosentimentanalysis.adapters.logging.loguru_logger\u001B[0m:\u001B[36minfo\u001B[0m:\u001B[36m17\u001B[0m - \u001B[1mReturning cached audio for video If Educational Videos Were Filmed Like Music Videos\u001B[0m\n",
      "\u001B[32m2024-06-15 00:32:51.690\u001B[0m | \u001B[1mINFO    \u001B[0m | \u001B[36mvideosentimentanalysis.adapters.logging.loguru_logger\u001B[0m:\u001B[36minfo\u001B[0m:\u001B[36m17\u001B[0m - \u001B[1mReturning cached audio for video If Educational Videos Were Filmed Like Music Videos\u001B[0m\n",
      "\u001B[32m2024-06-15 00:32:51.691\u001B[0m | \u001B[1mINFO    \u001B[0m | \u001B[36mvideosentimentanalysis.adapters.logging.loguru_logger\u001B[0m:\u001B[36mlog\u001B[0m:\u001B[36m14\u001B[0m - \u001B[1mTranscribing audio from video If Educational Videos Were Filmed Like Music Videos\u001B[0m\n"
     ]
    },
    {
     "name": "stdout",
     "output_type": "stream",
     "text": [
      "(0.054621848739495785, 0.054621848739495785)\n",
      "local_storage_path=PosixPath('tmp_audio/If Educational Videos Were Filmed Like Music Videos.wav')\n"
     ]
    },
    {
     "name": "stderr",
     "output_type": "stream",
     "text": [
      "\u001B[32m2024-06-15 00:33:01.984\u001B[0m | \u001B[1mINFO    \u001B[0m | \u001B[36mvideosentimentanalysis.adapters.logging.loguru_logger\u001B[0m:\u001B[36minfo\u001B[0m:\u001B[36m17\u001B[0m - \u001B[1mReturning cached audio for video If Educational Videos Were Filmed Like Music Videos\u001B[0m\n",
      "\u001B[32m2024-06-15 00:33:01.985\u001B[0m | \u001B[1mINFO    \u001B[0m | \u001B[36mvideosentimentanalysis.adapters.logging.loguru_logger\u001B[0m:\u001B[36mlog\u001B[0m:\u001B[36m14\u001B[0m - \u001B[1mTranscribing audio from video If Educational Videos Were Filmed Like Music Videos\u001B[0m\n"
     ]
    },
    {
     "name": "stdout",
     "output_type": "stream",
     "text": [
      " The opening shot is a little confusing and a little unreal. That sense of unreality is because nearly every shot in this video is being played back at the wrong speed. We filmed this section at 30 frames a second, but it's being played back at 24, 80% of normal speed. So it just seems a little bit off. Plus we're using rapid cuts with no continuity between them, different clothes, different locations, different everything. We've also got some cutaways in extreme slow motion, because it looks spectacular, and because it lets me do a moody stare into the distance without having to hold it for so long that it becomes awkward. It also lets us fit in some product placement. Some of the shots aren't slow motion though. This is being played back faster than real time, so that the dancers seem more synchronised and precise than they really are. I mean, don't get me wrong, they're good, but would the speed change their movements look superhuman? Also, there are dancers, because having attractive people move in attractive ways makes the video more appealing. We couldn't afford a wind machine for this shot, so we bought a leaf blower from a hardware store. We kept the receipt, so we can return it after we're done. The trouble with filming everything in the wrong frame rate is that my voice won't sound right, so the vocal track for this was pre-recorded in a studio, and I'm lip syncing it at the wrong speed. If my lips don't quite match up at some point, we'll just cut to another take, or to a completely random, slow-mo shot of an object being destroyed, and no one will care. Actually, this isn't the studio where we recorded the vocal track. I recorded this weeks ago, so we could plan everything, but we didn't film that session, so we had to go to this separate recording studio to fake that footage. This microphone isn't even plugged in. We're now about two dozen of the way through, so here's a middle eight from me, the featured artist, in an attempt to cross promote us. Our schedule didn't match up, so this was all filmed separately. Despite that, we're still trying to convince everyone that Tom and I met up, a great friend, and they're definitely in the same room. This is the part where we break up the video with a bit of diagetic audio, just so people can't rip the whole thing off YouTube. This isn't actually a party. It may look like we're having a spectacular time, as that's the image we want to project, but in reality, we are on our 15th take. Everyone would quite like to go home. This final section is important, though, because it resolves the question at the start, why am I falling into a swimming pool? Because ending the same way we started makes the audience think that there's a sensible, circular narrative that ties everything together, even if there isn't. You can't buy this on iTunes or stream it on Spotify. It's not a song.\n"
     ]
    },
    {
     "name": "stderr",
     "output_type": "stream",
     "text": [
      "\u001B[32m2024-06-15 00:33:13.487\u001B[0m | \u001B[1mINFO    \u001B[0m | \u001B[36mvideosentimentanalysis.adapters.logging.loguru_logger\u001B[0m:\u001B[36minfo\u001B[0m:\u001B[36m17\u001B[0m - \u001B[1mExtracting audio from video Casually Explained: Guide to College and University\u001B[0m\n"
     ]
    },
    {
     "name": "stdout",
     "output_type": "stream",
     "text": [
      "El primer plano es un poco confuso y un poco irreal. Esa sensación de irrealidad se debe a que casi todas las tomas de este vídeo se reproducen a la velocidad incorrecta. Filmamos esta sección a 30 cuadros por segundo, pero se reproduce a 24, 80% de la velocidad normal. Entonces parece un poco fuera de lugar. Además estamos usando cortes rápidos sin continuidad entre ellos, ropa diferente, ubicaciones diferentes, todo diferente. También tenemos algunos cortes en cámara extremadamente lenta, porque se ve espectacular y porque me permite mirar de mal humor a lo lejos sin tener que sostenerlo por tanto tiempo que se vuelva incómodo. También nos permite encajar en la colocación de algunos productos. Algunas de las tomas, sin embargo, no son en cámara lenta. Esto se reproduce más rápido que en tiempo real, de modo que los bailarines parecen más sincronizados y precisos de lo que realmente son. Quiero decir, no me malinterpretes, son buenos, pero ¿el cambio de velocidad haría que sus movimientos parecieran sobrehumanos? Además, hay bailarines, porque tener personas atractivas que se muevan de maneras atractivas hace que el vídeo sea más atractivo. No podíamos permitirnos una máquina de viento para esta toma, así que compramos un soplador de hojas en una ferretería. Guardamos el recibo para poder devolverlo una vez que hayamos terminado. El problema de filmar todo con una velocidad de fotogramas incorrecta es que mi voz no sonará bien, por lo que la pista vocal para esto fue pregrabada en un estudio y estoy sincronizando los labios a la velocidad incorrecta. Si mis labios no coinciden en algún momento, simplemente pasaremos a otra toma, o a una toma en cámara lenta completamente aleatoria de un objeto siendo destruido, y a nadie le importará. En realidad, este no es el estudio donde grabamos la pista vocal. Grabé esto hace semanas, para que pudiéramos planear todo, pero no filmamos esa sesión, así que tuvimos que ir a este estudio de grabación separado para falsificar ese metraje. Este micrófono ni siquiera está enchufado. Ya hemos recorrido unas dos docenas, así que aquí hay un ocho del medio de mi parte, el artista destacado, en un intento de promocionarnos. Nuestro horario no coincidía, así que todo esto se filmó por separado. A pesar de eso, todavía estamos tratando de convencer a todos de que Tom y yo nos conocimos, somos un gran amigo, y definitivamente estamos en la misma habitación. Esta es la parte en la que dividimos el vídeo con un poco de audio diagético, para que la gente no pueda copiarlo todo de YouTube. En realidad, esto no es una fiesta. Puede parecer que lo estamos pasando espectacular, ya que esa es la imagen que queremos proyectar, pero en realidad estamos en nuestra toma número 15. A todos les gustaría volver a casa. Sin embargo, esta sección final es importante porque resuelve la pregunta inicial: ¿por qué me caigo a una piscina? Porque terminar de la misma manera que empezamos hace que el público piense que hay una narrativa circular sensata que une todo, incluso si no la hay. No puedes comprarlo en iTunes ni transmitirlo en Spotify. No es una canción.\n",
      "MoviePy - Writing audio in tmp_audio/Casually Explained: Guide to College and University.wav\n"
     ]
    },
    {
     "name": "stderr",
     "output_type": "stream",
     "text": [
      "\u001B[32m2024-06-15 00:33:14.373\u001B[0m | \u001B[1mINFO    \u001B[0m | \u001B[36mvideosentimentanalysis.adapters.logging.loguru_logger\u001B[0m:\u001B[36mlog\u001B[0m:\u001B[36m14\u001B[0m - \u001B[1mTranscribing audio from video Casually Explained: Guide to College and University\u001B[0m\n"
     ]
    },
    {
     "name": "stdout",
     "output_type": "stream",
     "text": [
      "MoviePy - Done.\n"
     ]
    },
    {
     "name": "stderr",
     "output_type": "stream",
     "text": [
      "\u001B[32m2024-06-15 00:33:31.778\u001B[0m | \u001B[1mINFO    \u001B[0m | \u001B[36mvideosentimentanalysis.adapters.logging.loguru_logger\u001B[0m:\u001B[36minfo\u001B[0m:\u001B[36m17\u001B[0m - \u001B[1mPerforming sentiment analysis on video Casually Explained: Guide to College and University\u001B[0m\n",
      "\u001B[32m2024-06-15 00:33:31.783\u001B[0m | \u001B[1mINFO    \u001B[0m | \u001B[36mvideosentimentanalysis.adapters.logging.loguru_logger\u001B[0m:\u001B[36minfo\u001B[0m:\u001B[36m17\u001B[0m - \u001B[1mReturning cached audio for video Casually Explained: Guide to College and University\u001B[0m\n",
      "\u001B[32m2024-06-15 00:33:31.783\u001B[0m | \u001B[1mINFO    \u001B[0m | \u001B[36mvideosentimentanalysis.adapters.logging.loguru_logger\u001B[0m:\u001B[36minfo\u001B[0m:\u001B[36m17\u001B[0m - \u001B[1mReturning cached audio for video Casually Explained: Guide to College and University\u001B[0m\n",
      "\u001B[32m2024-06-15 00:33:31.784\u001B[0m | \u001B[1mINFO    \u001B[0m | \u001B[36mvideosentimentanalysis.adapters.logging.loguru_logger\u001B[0m:\u001B[36mlog\u001B[0m:\u001B[36m14\u001B[0m - \u001B[1mTranscribing audio from video Casually Explained: Guide to College and University\u001B[0m\n"
     ]
    },
    {
     "name": "stdout",
     "output_type": "stream",
     "text": [
      "(0.17890987800078703, 0.17890987800078703)\n",
      "local_storage_path=PosixPath('tmp_audio/Casually Explained: Guide to College and University.wav')\n"
     ]
    },
    {
     "name": "stderr",
     "output_type": "stream",
     "text": [
      "\u001B[32m2024-06-15 00:33:48.850\u001B[0m | \u001B[1mINFO    \u001B[0m | \u001B[36mvideosentimentanalysis.adapters.logging.loguru_logger\u001B[0m:\u001B[36minfo\u001B[0m:\u001B[36m17\u001B[0m - \u001B[1mReturning cached audio for video Casually Explained: Guide to College and University\u001B[0m\n",
      "\u001B[32m2024-06-15 00:33:48.850\u001B[0m | \u001B[1mINFO    \u001B[0m | \u001B[36mvideosentimentanalysis.adapters.logging.loguru_logger\u001B[0m:\u001B[36mlog\u001B[0m:\u001B[36m14\u001B[0m - \u001B[1mTranscribing audio from video Casually Explained: Guide to College and University\u001B[0m\n"
     ]
    },
    {
     "name": "stdout",
     "output_type": "stream",
     "text": [
      " So I know that most people going to college or university are pretty concerned about what it's going to be like, so I want to make a guide to help you out. One of the first things you need to know is that they're pretty expensive, and you can't have the same attitudes you didn't high school because if you fail something, you just have to take it again at your own expense. So before you go, you need to ask yourself the question, are you really there to drink and meet girls, or are you there to get a degree, it will help direct your career for the rest of your life. And once you figure that out, then you can ask yourself, am I dedicated enough to commit my whole data this for the next four plus years, or am I going to set some time aside to get my degree? Personally, I really decided to take everything one step at a time, and the first thing you have to do is register for courses. And you might have heard that the schoolwork is going to be a lot harder than high school, and I think most of us have had thoughts like, what are I'm just not smart enough for this? And the truth is, if you could navigate their website, you're smart enough. Now, you might be wondering what's the best program to take, and truth be told, this is not really a best program. The most important thing is choosing something that will help you find a sustainable job that you'll enjoy. Now, you might be thinking, wait a minute, how do I try to get the job I'll enjoy if I don't know what I'll enjoy because I've never had the job. And that's a good question, and I'll avoid by suggesting you use the following rule of thumb. So when you're picking a program, imagine a slider that goes from fun to how much money you'll make. And that's the spectrum you're dealing with. So one thing that most people are really excited about is making new friends, and don't worry, you'll get over that pretty quickly. But if you're talking to someone, one thing I think is really important is to avoid certain trigger phrases when you're talking to people from different departments. As an example, don't talk about the job market with fine art students. Don't talk to a pre-med or med students about student loans or how long until they graduate. And never, ever tell an engineering student you had a lot of homework last night, even if you're another engineering student. If you're wondering what type of engineering has the most homework, it's the one they're taking. On a similar note, as for how much work you should expect to do, when I started classes they told everyone, you should be studying for two to three hours at home for each hour of lectures you attend. And I remember thinking, wow, no homework. Unfortunately, that eventually backfired when we had an in-class midterm, and I couldn't find the room. So, along with that loophole that doesn't work, there's some common myths I wanted to spell right away, so you don't have the wrong idea about college or university. You'll still be one of the smart kids, myth. People are a lot more mature. Myth. You'll have a lot more sex. True. I'll have a lot more sex. Myth. Now, completely unrelated, but something that can really have an effect on your experience is the male to female ratio in a program. As an example, looking at the stats from our local schools, computer science and software engineering is 90% male, while the health and nursing programs are 90% female. You might be thinking, oh no, I'm a guy taking computer science, but I still want to meet girls. What does that mean? Means you fucked up. I took one job, a program course, and now I get an erection every time I see a gender-neutral name on an attendant sheet. Now, of course, when people think of college, they think of college parties. And so, I'd always wondered what it'd be like to be invited to one. On a bit more serious note, one thing I think needs to be said is that a lot of students are a little bummed out that they're really good at something in high school, but now they're kind of middle of the pack. The truth is, you don't need to be the best at your discipline to do great things. As an example, I never showed a lot of potential in high school, but now I make YouTube videos in my room. What I mean to say is I think it's important to look for other avenues to really help you stand out to employers and help your career in general. Like once your skill is at a certain level, you don't become a famous artist by being better than everyone at art or music. You get there by being better at marketing. You don't become a chief engineer by being better than everyone at math. You get there by being better at communication and dealing with people. And ultimately, you try to have at least a little bit of diversity, because even if you're lucky enough to have the ability to become the best in the world at one thing, in 30 years it'll be even more difficult to cope when we all get replaced by robots. You\n"
     ]
    },
    {
     "name": "stderr",
     "output_type": "stream",
     "text": [
      "\u001B[32m2024-06-15 00:34:07.453\u001B[0m | \u001B[1mINFO    \u001B[0m | \u001B[36mvideosentimentanalysis.adapters.logging.loguru_logger\u001B[0m:\u001B[36minfo\u001B[0m:\u001B[36m17\u001B[0m - \u001B[1mExtracting audio from video Potter Puppet Pals: The Mysterious Ticking Noise\u001B[0m\n"
     ]
    },
    {
     "name": "stdout",
     "output_type": "stream",
     "text": [
      "Sé que la mayoría de las personas que van a la universidad están bastante preocupadas por cómo será, así que quiero hacer una guía para ayudarte. Una de las primeras cosas que debes saber es que son bastante caras y no puedes tener la misma actitud que tenías en la secundaria porque si repruebas algo, simplemente tienes que volver a hacerlo por tu cuenta. Así que antes de ir, debes hacerte la siguiente pregunta: ¿realmente estás ahí para beber y conocer chicas o estás ahí para obtener un título que te ayude a orientar tu carrera para el resto de tu vida? Y una vez que averigües eso, puedes preguntarte: ¿estoy lo suficientemente dedicado como para dedicar toda mi energía a esto durante los próximos cuatro años o más o voy a reservar algo de tiempo para obtener mi título? Personalmente, realmente decidí tomar todo paso a paso, y lo primero que tienes que hacer es inscribirte en los cursos. Y es posible que hayas escuchado que el trabajo escolar será mucho más difícil que la secundaria, y creo que la mayoría de nosotros hemos tenido pensamientos como, ¿qué pasa? ¿No soy lo suficientemente inteligente para esto? Y la verdad es que, si pudieras navegar por su sitio web, eres lo suficientemente inteligente. Ahora, puede que te preguntes cuál es el mejor programa para tomar, y la verdad sea dicha, este no es realmente el mejor programa. Lo más importante es elegir algo que te ayude a encontrar un trabajo sostenible que disfrutes. Ahora, puede que estés pensando, espera un minuto, ¿cómo intento conseguir el trabajo que disfrutaré si no sé qué disfrutaré porque nunca he tenido el trabajo? Y esa es una buena pregunta, y la evitaré sugiriendo que uses la siguiente regla general. Entonces, cuando elijas un programa, imagina un control deslizante que va desde la diversión hasta la cantidad de dinero que ganarás. Y ese es el espectro con el que estás tratando. Entonces, una cosa que realmente entusiasma a la mayoría de las personas es hacer nuevos amigos, y no te preocupes, lo superarás bastante rápido. Pero si estás hablando con alguien, una cosa que creo que es realmente importante es evitar ciertas frases desencadenantes cuando hablas con personas de diferentes departamentos. Por ejemplo, no hables del mercado laboral con estudiantes de bellas artes. No hables con estudiantes de medicina o de pre-medicina sobre préstamos estudiantiles o cuánto tiempo les queda hasta graduarse. Y nunca, jamás, le digas a un estudiante de ingeniería que tuviste un montón de tarea anoche, incluso si eres otro estudiante de ingeniería. Si te preguntas qué tipo de ingeniería tiene más tarea, es la que están tomando. En una nota similar, en cuanto a cuánto trabajo deberías esperar hacer, cuando comencé las clases, le dijeron a todos que debería estudiar dos o tres horas en casa por cada hora de clases a las que asistiera. Y recuerdo que pensé, vaya, nada de tarea. Desafortunadamente, eso finalmente resultó contraproducente cuando tuvimos un examen parcial en clase y no pude encontrar el lugar. Entonces, junto con esa escapatoria que no funciona, hay algunos mitos comunes que quería aclarar de inmediato, para que no tengas una idea equivocada sobre la universidad. Seguirás siendo uno de los niños inteligentes, mito. La gente es mucho más madura. Mito. Tendrás mucho más sexo. Cierto. Tendré mucho más sexo. Mito. Ahora bien, algo que no tiene nada que ver, pero que puede tener un efecto real en tu experiencia es la proporción de hombres y mujeres en un programa. Por ejemplo, si nos fijamos en las estadísticas de nuestras escuelas locales, la informática y la ingeniería de software son 90% masculinas, mientras que los programas de salud y enfermería son 90% femeninos. Puede que estés pensando, oh no, soy un chico que estudia informática, pero aun así quiero conocer chicas. ¿Qué significa eso? Significa que la cagaste. Acepté un trabajo, un curso de programación, y ahora tengo una erección cada vez que veo un nombre de género neutro en una hoja de asistencia. Ahora, por supuesto, cuando la gente piensa en la universidad, piensa en fiestas universitarias. Y por eso, siempre me pregunté cómo sería que me invitaran a una. Hablando un poco más en serio, una cosa que creo que hay que decir es que muchos estudiantes están un poco decepcionados porque son muy buenos en algo en la escuela secundaria, pero ahora están en una especie de mediocre nivel. La verdad es que no necesitas ser el mejor en tu disciplina para hacer grandes cosas. Por ejemplo, nunca mostré mucho potencial en la escuela secundaria, pero ahora hago videos de YouTube en mi habitación. Lo que quiero decir es que creo que es importante buscar otras vías que realmente te ayuden a destacar ante los empleadores y a mejorar tu carrera en general. Por ejemplo, una vez que tu habilidad está en cierto nivel, no te conviertes en un artista famoso siendo mejor que todos en arte o música. Llegas allí siendo mejor en marketing. No te conviertes en ingeniero jefe siendo mejor que todos en matemáticas. Llegas allí siendo mejor en comunicación y tratando con la gente. Y, en última instancia, intenta tener al menos un poco de diversidad, porque incluso si tienes la suerte de tener la capacidad de convertirte en el mejor del mundo en una cosa, en 30 años será aún más difícil lidiar con eso cuando todos seamos reemplazados por robots.\n",
      "MoviePy - Writing audio in tmp_audio/Potter Puppet Pals: The Mysterious Ticking Noise.wav\n"
     ]
    },
    {
     "name": "stderr",
     "output_type": "stream",
     "text": [
      "\u001B[32m2024-06-15 00:34:08.111\u001B[0m | \u001B[1mINFO    \u001B[0m | \u001B[36mvideosentimentanalysis.adapters.logging.loguru_logger\u001B[0m:\u001B[36mlog\u001B[0m:\u001B[36m14\u001B[0m - \u001B[1mTranscribing audio from video Potter Puppet Pals: The Mysterious Ticking Noise\u001B[0m\n"
     ]
    },
    {
     "name": "stdout",
     "output_type": "stream",
     "text": [
      "MoviePy - Done.\n"
     ]
    },
    {
     "name": "stderr",
     "output_type": "stream",
     "text": [
      "\u001B[32m2024-06-15 00:34:11.739\u001B[0m | \u001B[1mINFO    \u001B[0m | \u001B[36mvideosentimentanalysis.adapters.logging.loguru_logger\u001B[0m:\u001B[36minfo\u001B[0m:\u001B[36m17\u001B[0m - \u001B[1mPerforming sentiment analysis on video Potter Puppet Pals: The Mysterious Ticking Noise\u001B[0m\n",
      "\u001B[32m2024-06-15 00:34:11.740\u001B[0m | \u001B[1mINFO    \u001B[0m | \u001B[36mvideosentimentanalysis.adapters.logging.loguru_logger\u001B[0m:\u001B[36minfo\u001B[0m:\u001B[36m17\u001B[0m - \u001B[1mReturning cached audio for video Potter Puppet Pals: The Mysterious Ticking Noise\u001B[0m\n",
      "\u001B[32m2024-06-15 00:34:11.741\u001B[0m | \u001B[1mINFO    \u001B[0m | \u001B[36mvideosentimentanalysis.adapters.logging.loguru_logger\u001B[0m:\u001B[36minfo\u001B[0m:\u001B[36m17\u001B[0m - \u001B[1mReturning cached audio for video Potter Puppet Pals: The Mysterious Ticking Noise\u001B[0m\n",
      "\u001B[32m2024-06-15 00:34:11.741\u001B[0m | \u001B[1mINFO    \u001B[0m | \u001B[36mvideosentimentanalysis.adapters.logging.loguru_logger\u001B[0m:\u001B[36mlog\u001B[0m:\u001B[36m14\u001B[0m - \u001B[1mTranscribing audio from video Potter Puppet Pals: The Mysterious Ticking Noise\u001B[0m\n"
     ]
    },
    {
     "name": "stdout",
     "output_type": "stream",
     "text": [
      "(0.5, 0.5)\n",
      "local_storage_path=PosixPath('tmp_audio/Potter Puppet Pals: The Mysterious Ticking Noise.wav')\n"
     ]
    },
    {
     "name": "stderr",
     "output_type": "stream",
     "text": [
      "\u001B[32m2024-06-15 00:34:15.253\u001B[0m | \u001B[1mINFO    \u001B[0m | \u001B[36mvideosentimentanalysis.adapters.logging.loguru_logger\u001B[0m:\u001B[36minfo\u001B[0m:\u001B[36m17\u001B[0m - \u001B[1mReturning cached audio for video Potter Puppet Pals: The Mysterious Ticking Noise\u001B[0m\n",
      "\u001B[32m2024-06-15 00:34:15.253\u001B[0m | \u001B[1mINFO    \u001B[0m | \u001B[36mvideosentimentanalysis.adapters.logging.loguru_logger\u001B[0m:\u001B[36mlog\u001B[0m:\u001B[36m14\u001B[0m - \u001B[1mTranscribing audio from video Potter Puppet Pals: The Mysterious Ticking Noise\u001B[0m\n"
     ]
    },
    {
     "name": "stdout",
     "output_type": "stream",
     "text": [
      " Hmm. What is that mysterious ticking noise? Not over here, not over there. Kind of catchy. I found the source of the ticking. It's a pipe bomb. Yeah! Oh! Voldemort, Voldemort, Voldemort, Voldemort!\n"
     ]
    },
    {
     "name": "stderr",
     "output_type": "stream",
     "text": [
      "\u001B[32m2024-06-15 00:34:19.102\u001B[0m | \u001B[1mINFO    \u001B[0m | \u001B[36mvideosentimentanalysis.adapters.logging.loguru_logger\u001B[0m:\u001B[36minfo\u001B[0m:\u001B[36m17\u001B[0m - \u001B[1mExtracting audio from video Fastest Rap EVER\u001B[0m\n"
     ]
    },
    {
     "name": "stdout",
     "output_type": "stream",
     "text": [
      "Mmm. ¿Qué es ese misterioso tic-tac? Ni por aquí ni por allá. Algo pegadizo. Encontré la fuente del tictac. Es una bomba casera. ¡Sí! ¡Oh! ¡Plegando, doblando, doblando, doblando, doblando!\n",
      "MoviePy - Writing audio in tmp_audio/Fastest Rap EVER.wav\n"
     ]
    },
    {
     "name": "stderr",
     "output_type": "stream",
     "text": [
      "\u001B[32m2024-06-15 00:34:19.614\u001B[0m | \u001B[1mINFO    \u001B[0m | \u001B[36mvideosentimentanalysis.adapters.logging.loguru_logger\u001B[0m:\u001B[36mlog\u001B[0m:\u001B[36m14\u001B[0m - \u001B[1mTranscribing audio from video Fastest Rap EVER\u001B[0m\n"
     ]
    },
    {
     "name": "stdout",
     "output_type": "stream",
     "text": [
      "MoviePy - Done.\n"
     ]
    },
    {
     "name": "stderr",
     "output_type": "stream",
     "text": [
      "\u001B[32m2024-06-15 00:34:26.240\u001B[0m | \u001B[1mINFO    \u001B[0m | \u001B[36mvideosentimentanalysis.adapters.logging.loguru_logger\u001B[0m:\u001B[36minfo\u001B[0m:\u001B[36m17\u001B[0m - \u001B[1mPerforming sentiment analysis on video Fastest Rap EVER\u001B[0m\n",
      "\u001B[32m2024-06-15 00:34:26.243\u001B[0m | \u001B[1mINFO    \u001B[0m | \u001B[36mvideosentimentanalysis.adapters.logging.loguru_logger\u001B[0m:\u001B[36minfo\u001B[0m:\u001B[36m17\u001B[0m - \u001B[1mReturning cached audio for video Fastest Rap EVER\u001B[0m\n",
      "\u001B[32m2024-06-15 00:34:26.243\u001B[0m | \u001B[1mINFO    \u001B[0m | \u001B[36mvideosentimentanalysis.adapters.logging.loguru_logger\u001B[0m:\u001B[36minfo\u001B[0m:\u001B[36m17\u001B[0m - \u001B[1mReturning cached audio for video Fastest Rap EVER\u001B[0m\n",
      "\u001B[32m2024-06-15 00:34:26.243\u001B[0m | \u001B[1mINFO    \u001B[0m | \u001B[36mvideosentimentanalysis.adapters.logging.loguru_logger\u001B[0m:\u001B[36mlog\u001B[0m:\u001B[36m14\u001B[0m - \u001B[1mTranscribing audio from video Fastest Rap EVER\u001B[0m\n"
     ]
    },
    {
     "name": "stdout",
     "output_type": "stream",
     "text": [
      "(-0.030586080586080585, -0.030586080586080585)\n",
      "local_storage_path=PosixPath('tmp_audio/Fastest Rap EVER.wav')\n"
     ]
    },
    {
     "name": "stderr",
     "output_type": "stream",
     "text": [
      "\u001B[32m2024-06-15 00:34:33.307\u001B[0m | \u001B[1mINFO    \u001B[0m | \u001B[36mvideosentimentanalysis.adapters.logging.loguru_logger\u001B[0m:\u001B[36minfo\u001B[0m:\u001B[36m17\u001B[0m - \u001B[1mReturning cached audio for video Fastest Rap EVER\u001B[0m\n",
      "\u001B[32m2024-06-15 00:34:33.308\u001B[0m | \u001B[1mINFO    \u001B[0m | \u001B[36mvideosentimentanalysis.adapters.logging.loguru_logger\u001B[0m:\u001B[36mlog\u001B[0m:\u001B[36m14\u001B[0m - \u001B[1mTranscribing audio from video Fastest Rap EVER\u001B[0m\n"
     ]
    },
    {
     "name": "stdout",
     "output_type": "stream",
     "text": [
      " I'm gonna show you the fastest flow Take all your money and all your go Class every lines of look I'll be lower I'll wake you up when I go, go, go No one can touch me and no fun show The sound on the screen is a video The flag was the twilight beyond that flow Time for the ride baby go me go My name is Rumi I want to be a welcome tonight and mile I'm here to kidnap and mend them from the candy aisle Spit my foes so sick then it'll meet my mile I'll devour him and his gang now, now, now, I'm style Let people envy my rhymes as they should But I also excel at making women feel good They call me black beard, black in the hood Guess I'll look like a pirate when my turnlicks got word I'm gonna be bigger than anything anyone anywhere That is why I need to become a billionaire by all the heists We men know I want to be a shag on and become the heavy It's beyond compare morgans for a lot such a mix of chicken and gear And even start to thicken Spit it up because time is ticking I'm already late for some fighters to clickin I'm just being possible get on your knees and idolize my lips I'm moving faster than you're raking even and I like some people Guess we're gonna be in the coast of the wood butterflies Head around or my two-story eye apologies I don't wanna wake up when I'm 55 and realize that even If I did succeed I did six-year-old people like so I just wanna tell you all that What you're seeing with your eyes is altered Spit it up because that's what's on the internet, guys Let's go! He's merged! That's not my channel!\n"
     ]
    },
    {
     "name": "stderr",
     "output_type": "stream",
     "text": [
      "\u001B[32m2024-06-15 00:34:40.629\u001B[0m | \u001B[1mINFO    \u001B[0m | \u001B[36mvideosentimentanalysis.adapters.logging.loguru_logger\u001B[0m:\u001B[36minfo\u001B[0m:\u001B[36m17\u001B[0m - \u001B[1mExtracting audio from video THE PARTS OF A CELL SONG | Science Music Video\u001B[0m\n"
     ]
    },
    {
     "name": "stdout",
     "output_type": "stream",
     "text": [
      "Te mostraré el flujo más rápido Toma todo tu dinero y todo tu ir Clase cada línea de mirada Estaré más bajo Te despertaré cuando vaya, vaya, vaya Nadie puede tocarme y no hay espectáculo divertido. El sonido en la pantalla es un video La bandera era el crepúsculo más allá de ese flujo Es hora de viajar bebé, ve, ve. Mi nombre es Rumi, quiero ser bienvenido esta noche y milla. Estoy aquí para secuestrarlos y repararlos en el pasillo de dulces. Escupir. Mis enemigos están tan enfermos que cumplirán mi milla. Lo devoraré a él y a su pandilla ahora, ahora, ahora, tengo estilo. Deja que la gente envidie mis rimas como debería. Pero también sobresalgo en hacer que las mujeres se sientan bien. Me llaman negro. barba, negro en la capucha Supongo que pareceré un pirata cuando mis turnlicks se enteren de que seré más grande que cualquier otra persona en cualquier lugar. Es por eso que necesito convertirme en multimillonario con todos los atracos. Los hombres sabemos que quiero ser un Sigue adelante y conviértete en el pesado. No hay comparación con Morgans para muchos. Una mezcla de pollo y equipo. E incluso comienza a espesarse. Escúpelo porque el tiempo corre. Ya es tarde para que algunos luchadores hagan clic. Solo estoy siendo posible. Sigue adelante. tus rodillas e idolatrar mis labios me estoy moviendo más rápido de lo que estás rastrillando incluso y me gustan algunas personas supongo que estaremos en la costa del bosque mariposas gira o mis disculpas de ojos de dos pisos no quiero despertar Me descubrí cuando tengo 55 años y me doy cuenta de que incluso si tuviera éxito, lo haría como a personas de seis años, así que solo quiero decirles a todos que lo que ven con sus ojos está alterado. Escúpelo porque eso es lo que hay en Internet. , chicos ¡Vamos! ¡Está fusionado! ¡Ese no es mi canal!\n",
      "MoviePy - Writing audio in tmp_audio/THE PARTS OF A CELL SONG | Science Music Video.wav\n"
     ]
    },
    {
     "name": "stderr",
     "output_type": "stream",
     "text": [
      "\u001B[32m2024-06-15 00:34:41.393\u001B[0m | \u001B[1mINFO    \u001B[0m | \u001B[36mvideosentimentanalysis.adapters.logging.loguru_logger\u001B[0m:\u001B[36mlog\u001B[0m:\u001B[36m14\u001B[0m - \u001B[1mTranscribing audio from video THE PARTS OF A CELL SONG | Science Music Video\u001B[0m\n"
     ]
    },
    {
     "name": "stdout",
     "output_type": "stream",
     "text": [
      "MoviePy - Done.\n"
     ]
    },
    {
     "name": "stderr",
     "output_type": "stream",
     "text": [
      "\u001B[32m2024-06-15 00:34:49.760\u001B[0m | \u001B[1mINFO    \u001B[0m | \u001B[36mvideosentimentanalysis.adapters.logging.loguru_logger\u001B[0m:\u001B[36minfo\u001B[0m:\u001B[36m17\u001B[0m - \u001B[1mPerforming sentiment analysis on video THE PARTS OF A CELL SONG | Science Music Video\u001B[0m\n",
      "\u001B[32m2024-06-15 00:34:49.762\u001B[0m | \u001B[1mINFO    \u001B[0m | \u001B[36mvideosentimentanalysis.adapters.logging.loguru_logger\u001B[0m:\u001B[36minfo\u001B[0m:\u001B[36m17\u001B[0m - \u001B[1mReturning cached audio for video THE PARTS OF A CELL SONG | Science Music Video\u001B[0m\n",
      "\u001B[32m2024-06-15 00:34:49.762\u001B[0m | \u001B[1mINFO    \u001B[0m | \u001B[36mvideosentimentanalysis.adapters.logging.loguru_logger\u001B[0m:\u001B[36minfo\u001B[0m:\u001B[36m17\u001B[0m - \u001B[1mReturning cached audio for video THE PARTS OF A CELL SONG | Science Music Video\u001B[0m\n",
      "\u001B[32m2024-06-15 00:34:49.763\u001B[0m | \u001B[1mINFO    \u001B[0m | \u001B[36mvideosentimentanalysis.adapters.logging.loguru_logger\u001B[0m:\u001B[36mlog\u001B[0m:\u001B[36m14\u001B[0m - \u001B[1mTranscribing audio from video THE PARTS OF A CELL SONG | Science Music Video\u001B[0m\n"
     ]
    },
    {
     "name": "stdout",
     "output_type": "stream",
     "text": [
      "(0.05366300366300366, 0.05366300366300366)\n",
      "local_storage_path=PosixPath('tmp_audio/THE PARTS OF A CELL SONG | Science Music Video.wav')\n"
     ]
    },
    {
     "name": "stderr",
     "output_type": "stream",
     "text": [
      "\u001B[32m2024-06-15 00:34:57.497\u001B[0m | \u001B[1mINFO    \u001B[0m | \u001B[36mvideosentimentanalysis.adapters.logging.loguru_logger\u001B[0m:\u001B[36minfo\u001B[0m:\u001B[36m17\u001B[0m - \u001B[1mReturning cached audio for video THE PARTS OF A CELL SONG | Science Music Video\u001B[0m\n",
      "\u001B[32m2024-06-15 00:34:57.498\u001B[0m | \u001B[1mINFO    \u001B[0m | \u001B[36mvideosentimentanalysis.adapters.logging.loguru_logger\u001B[0m:\u001B[36mlog\u001B[0m:\u001B[36m14\u001B[0m - \u001B[1mTranscribing audio from video THE PARTS OF A CELL SONG | Science Music Video\u001B[0m\n"
     ]
    },
    {
     "name": "stdout",
     "output_type": "stream",
     "text": [
      " Here's what he so contains Out of layers of salmon brain It controls what goes in and down Sells that synergy from source of mitochondria Also known as the powerhouse In the ribosomes after cell with proteins in the cis and double as micrarchiculomocary substances Bricking down multi-reels, lies also The nucleus controls the cell kind of like a brain contains a DNA when cells divide to replicate And suddenly a man reign full of pores And nucleolus makes bubbles and minerals from proteins Acreting hormones by the Goldie bodies Each unit of a cell is in organelle The membrane keeps substances out inside Some film inside, or plasma, some bizzostomes Help break things down energy from mitochondria Protein factories, ribosomes, endoplasmic particulum Chance receptances like proteins, degrees controls, please Salmon brain, mitochondria, lysosomes, ribosomes, cytoplasm, nucleus, ER-ingled-day body And then nucleolus, salmon brain, mitochondria, lysosomes, ribosomes, cytoplasm, nucleus, ER-ingled-day body And then nucleolus, if you look at a plant cell They have a few different organelles Chloroplasts, back-e-wals, and a cell wall Chloroplasts take the sun in, convert to food through photosynthesis Large back-e-wals to food water and waste Cell wall is the outer, vision cell, yellow cells, the protector You prepastructure to the sound Salmon brain, mitochondria, lysosomes, ribosomes, cytoplasm, nucleus, ER-ingled-day body And then nucleolus, salmon brain, mitochondria, lysosomes, ribosomes, cytoplasm, nucleus, ER-ingled-day body And then nucleolus\n"
     ]
    },
    {
     "name": "stderr",
     "output_type": "stream",
     "text": [
      "\u001B[32m2024-06-15 00:35:06.230\u001B[0m | \u001B[1mINFO    \u001B[0m | \u001B[36mvideosentimentanalysis.adapters.logging.loguru_logger\u001B[0m:\u001B[36minfo\u001B[0m:\u001B[36m17\u001B[0m - \u001B[1mExtracting audio from video THE ROCK CYCLE SONG | Science Music Video\u001B[0m\n"
     ]
    },
    {
     "name": "stdout",
     "output_type": "stream",
     "text": [
      "Esto es lo que contiene Fuera de capas de cerebro de salmón Controla lo que entra y baja Vende esa sinergia desde la fuente de las mitocondrias También conocido como la central eléctrica En los ribosomas después de la célula con proteínas en el cis y se dobla como sustancias micrarquiculomocarosas Bloqueando carretes múltiples , miente también El núcleo controla la célula como un cerebro contiene ADN cuando las células se dividen para replicarse Y de repente un hombre reina lleno de poros Y el nucléolo produce burbujas y minerales a partir de proteínas Acreción de hormonas por los cuerpos Goldie Cada unidad de una célula está en orgánulo La membrana mantiene las sustancias fuera del interior Algunas películas en el interior, o plasma, algunos bizzostomas Ayudan a descomponer la energía de las mitocondrias Fábricas de proteínas, ribosomas, partículas endoplasmáticas Receptores aleatorios como proteínas, controles de grados, por favor Cerebro de salmón, mitocondrias, lisosomas, ribosomas, citoplasma, núcleo, ER-ingled-day body Y luego nucléolo, cerebro de salmón, mitocondrias, lisosomas, ribosomas, citoplasma, núcleo, ER-ingled-day body Y luego nucleolo, si nos fijamos en una célula vegetal, tienen algunos orgánulos diferentes, cloroplastos, back-e-wals y una pared celular Los cloroplastos absorben el sol y lo convierten en alimento a través de la fotosíntesis Grandes back-e-wals en alimento, agua y desechos La pared celular es la célula exterior, de visión, las células amarillas, el protector Usted prepara la estructura para el sonido Cerebro de salmón, mitocondrias, lisosomas, ribosomas, citoplasma, núcleo, cuerpo de día ER-ingled Y luego nucléolo, cerebro de salmón, mitocondrias, lisosomas, ribosomas, citoplasma, núcleo, cuerpo de día ER-ingled Y luego nucleolo\n",
      "MoviePy - Writing audio in tmp_audio/THE ROCK CYCLE SONG | Science Music Video.wav\n"
     ]
    },
    {
     "name": "stderr",
     "output_type": "stream",
     "text": [
      "\u001B[32m2024-06-15 00:35:06.944\u001B[0m | \u001B[1mINFO    \u001B[0m | \u001B[36mvideosentimentanalysis.adapters.logging.loguru_logger\u001B[0m:\u001B[36mlog\u001B[0m:\u001B[36m14\u001B[0m - \u001B[1mTranscribing audio from video THE ROCK CYCLE SONG | Science Music Video\u001B[0m\n"
     ]
    },
    {
     "name": "stdout",
     "output_type": "stream",
     "text": [
      "MoviePy - Done.\n"
     ]
    },
    {
     "name": "stderr",
     "output_type": "stream",
     "text": [
      "\u001B[32m2024-06-15 00:35:26.010\u001B[0m | \u001B[1mINFO    \u001B[0m | \u001B[36mvideosentimentanalysis.adapters.logging.loguru_logger\u001B[0m:\u001B[36minfo\u001B[0m:\u001B[36m17\u001B[0m - \u001B[1mPerforming sentiment analysis on video THE ROCK CYCLE SONG | Science Music Video\u001B[0m\n",
      "\u001B[32m2024-06-15 00:35:26.012\u001B[0m | \u001B[1mINFO    \u001B[0m | \u001B[36mvideosentimentanalysis.adapters.logging.loguru_logger\u001B[0m:\u001B[36minfo\u001B[0m:\u001B[36m17\u001B[0m - \u001B[1mReturning cached audio for video THE ROCK CYCLE SONG | Science Music Video\u001B[0m\n",
      "\u001B[32m2024-06-15 00:35:26.013\u001B[0m | \u001B[1mINFO    \u001B[0m | \u001B[36mvideosentimentanalysis.adapters.logging.loguru_logger\u001B[0m:\u001B[36minfo\u001B[0m:\u001B[36m17\u001B[0m - \u001B[1mReturning cached audio for video THE ROCK CYCLE SONG | Science Music Video\u001B[0m\n",
      "\u001B[32m2024-06-15 00:35:26.013\u001B[0m | \u001B[1mINFO    \u001B[0m | \u001B[36mvideosentimentanalysis.adapters.logging.loguru_logger\u001B[0m:\u001B[36mlog\u001B[0m:\u001B[36m14\u001B[0m - \u001B[1mTranscribing audio from video THE ROCK CYCLE SONG | Science Music Video\u001B[0m\n"
     ]
    },
    {
     "name": "stdout",
     "output_type": "stream",
     "text": [
      "(0.10677549302549302, 0.10677549302549302)\n",
      "local_storage_path=PosixPath('tmp_audio/THE ROCK CYCLE SONG | Science Music Video.wav')\n"
     ]
    },
    {
     "name": "stderr",
     "output_type": "stream",
     "text": [
      "\u001B[32m2024-06-15 00:35:38.480\u001B[0m | \u001B[1mINFO    \u001B[0m | \u001B[36mvideosentimentanalysis.adapters.logging.loguru_logger\u001B[0m:\u001B[36minfo\u001B[0m:\u001B[36m17\u001B[0m - \u001B[1mReturning cached audio for video THE ROCK CYCLE SONG | Science Music Video\u001B[0m\n",
      "\u001B[32m2024-06-15 00:35:38.480\u001B[0m | \u001B[1mINFO    \u001B[0m | \u001B[36mvideosentimentanalysis.adapters.logging.loguru_logger\u001B[0m:\u001B[36mlog\u001B[0m:\u001B[36m14\u001B[0m - \u001B[1mTranscribing audio from video THE ROCK CYCLE SONG | Science Music Video\u001B[0m\n"
     ]
    },
    {
     "name": "stdout",
     "output_type": "stream",
     "text": [
      " Okay now, let's start with minerals, solid naturally Yucca, reeks, substances made from elements, singles, or combos of many inorganic means anal, comp from plants, or animals, always a fixed-can-bickle structure, examples of coastal gold. All right, now do it from minerals, let's talk about what a rock is, composed of many different compounds, structures not consistent. There are major types of rocks, in total there are three igneas, metamorphic and sedimentary. First off, it's igneas, one of all canoeuvres, blues, magma, and then it cools down hardens within the earth's class, going to the metamorphic, formed by massive heat or pressure, sometimes they've found by the fault lines where place push against each other. Sedimentary rocks, rocks sediment combining, like a river picking up to the positive pieces, gives recovery eventually. Okay, south. Oflomillions of years rocks fall men on new different ways and transitions into the three rockers Continue with cycle of chains, well shrugs on as ignias Malkeno magma hard and wind and water big rock into small pieces to piles I've said on this set of man builds up sedimentary rock it becomes The rock is covered up and ends up inside the earth's crust With heat pressurized, it rockers through metamorphosis Because a metamorphic rock and cycle starts over again One thing to know about this cycle is the order's not specific Rocks and chains are different times based on a different environment, yeah E-E-E is coming from the volcano Metamorphic rock and cycle eats Sedimentary small pieces from wherever Over there in the middle of the air E-E-E is coming from the volcano Metamorphic rock and cycle eats Sedimentary small pieces from wherever Over there in the middle of the air\n",
      "Bien, comencemos con minerales, sólidos naturalmente yuca, hedor, sustancias hechas de elementos, individuales o combinaciones de muchos medios inorgánicos, anal, compuestos de plantas o animales, siempre una estructura fija de lata y bickle, ejemplos de oro costero. Muy bien, ahora hagámoslo a partir de minerales, hablemos de lo que es una roca, compuesta de muchos compuestos diferentes, con estructuras no consistentes. Existen principales tipos de rocas, en total hay tres ígneas, metamórficas y sedimentarias. En primer lugar, son las igneas, una de todas las canoeuvres, los azules, el magma, y ​​luego se enfría y se endurece dentro de la clase de la tierra, pasando a lo metamórfico, formado por calor o presión masiva, a veces se han encontrado en las fallas donde se coloca el empuje. unos contra otros. Las rocas sedimentarias, las rocas que se combinan con sedimentos, como un río que recoge los pedazos positivos, eventualmente llegan a su fin. Él viene de un volcán. Que una polilla regrese a su caparazón, no se comerá a Santa, el Terry, pequeños pedazos de un río. Allá en medio de la colina. Él viene de un volcán. Que una polilla regrese a su caparazón, no se comerá. t comer a Santa, el Terry, pequeños pedazos de un río Allá en el medio de la colina Está bien, entonces, oh, 4 millones de zippy son rocas Hombre completo, soy nuevo en diferentes maneras Y la transición a los tres rockeros Continúa con el ciclo de cadenas Bueno, las rocas no son como volcán ígneo, magma, duro y viento y agua Roca grande en pedazos pequeños Dos montones de sedum Este sedum, se acumula roca sedimentaria Se vuelve La roca se cubre y termina Dentro de la corteza terrestre Con El calor y la presión aumentan. La roca pasa por metamorfosis porque es una roca metamórfica. Y el ciclo comienza de nuevo. Una cosa que hay que saber sobre este ciclo es que el orden no es específico. Las rocas y las cadenas son diferentes. Tiempos basados ​​en un entorno diferente, ¡sí! Ha sido un río allá en medio de la colina.\n"
     ]
    }
   ],
   "source": [
    "\n",
    "for video in videos:\n",
    "    video_utlity_use_case=VideoUtilityUseCase(video=video, logger=loguru_logger, extract_audio=moviepy_extractor, extract_text=speechrecognition, extract_polarity_and_sensitivity=sentimentanalysis, translate=text_translation)\n",
    "    print(video_utlity_use_case.get_sentiment_analysis())\n",
    "    print(video_utlity_use_case.extract_audio())\n",
    "    print(video_utlity_use_case.transcribe_audio())\n",
    "    print(video_utlity_use_case.translate_text(source_lang=LanguageOptions.ENGLISH, target_lang=LanguageOptions.SPANISH))"
   ],
   "metadata": {
    "collapsed": false,
    "ExecuteTime": {
     "end_time": "2024-06-14T23:35:50.775649Z",
     "start_time": "2024-06-14T23:32:39.801837Z"
    }
   },
   "id": "2eb488471353c116",
   "execution_count": 10
  },
  {
   "cell_type": "code",
   "outputs": [],
   "source": [],
   "metadata": {
    "collapsed": false,
    "ExecuteTime": {
     "end_time": "2024-06-14T23:35:50.778145Z",
     "start_time": "2024-06-14T23:35:50.776649Z"
    }
   },
   "id": "e8c6aaf2d25c53e0",
   "execution_count": 10
  }
 ],
 "metadata": {
  "kernelspec": {
   "display_name": "Python 3",
   "language": "python",
   "name": "python3"
  },
  "language_info": {
   "codemirror_mode": {
    "name": "ipython",
    "version": 2
   },
   "file_extension": ".py",
   "mimetype": "text/x-python",
   "name": "python",
   "nbconvert_exporter": "python",
   "pygments_lexer": "ipython2",
   "version": "2.7.6"
  }
 },
 "nbformat": 4,
 "nbformat_minor": 5
}
